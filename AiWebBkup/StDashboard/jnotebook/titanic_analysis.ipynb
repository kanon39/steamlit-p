{
 "cells": [
  {
   "cell_type": "markdown",
   "id": "c610696e",
   "metadata": {},
   "source": [
    "# Analysis and Predict for Titanic data"
   ]
  },
  {
   "cell_type": "markdown",
   "id": "db178d2c",
   "metadata": {},
   "source": [
    "### 처리 순서\n",
    "##### 1. Train/Test 데이터 준비\n",
    "##### 2. 데이터 기본정보 확인\n",
    "##### 3. 데이터 전처리\n",
    "######  &emsp; 3-1. 불필요한 컬럼 삭제\n",
    "######  &emsp; 3-2. NaN 데이터 처리\n",
    "######  &emsp; 3-3. 그외 전처리\n",
    "##### 4. Encoding\n",
    "##### 5. Scaling\n",
    "##### 6. train_test_split()\n",
    "##### 7. 모델 학습/평가\n",
    "##### 8. 실제 예측"
   ]
  },
  {
   "cell_type": "code",
   "execution_count": null,
   "id": "dfd8b3ba",
   "metadata": {},
   "outputs": [],
   "source": []
  },
  {
   "cell_type": "markdown",
   "id": "619ebe6c",
   "metadata": {},
   "source": [
    "##### import"
   ]
  },
  {
   "cell_type": "code",
   "execution_count": 1,
   "id": "157f0b75",
   "metadata": {},
   "outputs": [],
   "source": [
    "import numpy as np\n",
    "import pandas as pd\n",
    "import matplotlib.pyplot as plt\n",
    "import seaborn as sns"
   ]
  },
  {
   "cell_type": "markdown",
   "id": "9fce8d4d",
   "metadata": {},
   "source": [
    "### 1. Train/Test 데이터 준비"
   ]
  },
  {
   "cell_type": "code",
   "execution_count": 2,
   "id": "72d4363b",
   "metadata": {},
   "outputs": [
    {
     "data": {
      "text/plain": [
       "WindowsPath('e:/Study/Python/Streamlit/practic_file/AiWebBkup/StDashboard/jnotebook')"
      ]
     },
     "execution_count": 2,
     "metadata": {},
     "output_type": "execute_result"
    }
   ],
   "source": [
    "from pathlib import Path\n",
    "Path.cwd()"
   ]
  },
  {
   "cell_type": "code",
   "execution_count": 3,
   "id": "73d2e88a",
   "metadata": {},
   "outputs": [],
   "source": [
    "TRAIN_DATA = Path.cwd().parent / 'DATA/titanic_train.csv'\n",
    "TEST_DATA = Path.cwd().parent / 'DATA/titanic_test.csv'"
   ]
  },
  {
   "cell_type": "code",
   "execution_count": 4,
   "id": "af49af77",
   "metadata": {},
   "outputs": [
    {
     "data": {
      "text/plain": [
       "(891, 12)"
      ]
     },
     "execution_count": 4,
     "metadata": {},
     "output_type": "execute_result"
    }
   ],
   "source": [
    "dfTrain = pd.read_csv(TRAIN_DATA)\n",
    "dfTrain.shape"
   ]
  },
  {
   "cell_type": "code",
   "execution_count": 5,
   "id": "716bd1a5",
   "metadata": {},
   "outputs": [
    {
     "data": {
      "text/plain": [
       "(418, 11)"
      ]
     },
     "execution_count": 5,
     "metadata": {},
     "output_type": "execute_result"
    }
   ],
   "source": [
    "dfTest = pd.read_csv(TEST_DATA)\n",
    "dfTest.shape"
   ]
  },
  {
   "cell_type": "markdown",
   "id": "32aae875",
   "metadata": {},
   "source": [
    "### 2. 데이터 기본 정보 확인"
   ]
  },
  {
   "cell_type": "markdown",
   "id": "e7c2b67d",
   "metadata": {},
   "source": [
    "##### 데이터의 내용을 확인한다."
   ]
  },
  {
   "cell_type": "code",
   "execution_count": 6,
   "id": "8f5a09f3",
   "metadata": {},
   "outputs": [
    {
     "data": {
      "text/html": [
       "<div>\n",
       "<style scoped>\n",
       "    .dataframe tbody tr th:only-of-type {\n",
       "        vertical-align: middle;\n",
       "    }\n",
       "\n",
       "    .dataframe tbody tr th {\n",
       "        vertical-align: top;\n",
       "    }\n",
       "\n",
       "    .dataframe thead th {\n",
       "        text-align: right;\n",
       "    }\n",
       "</style>\n",
       "<table border=\"1\" class=\"dataframe\">\n",
       "  <thead>\n",
       "    <tr style=\"text-align: right;\">\n",
       "      <th></th>\n",
       "      <th>PassengerId</th>\n",
       "      <th>Survived</th>\n",
       "      <th>Pclass</th>\n",
       "      <th>Name</th>\n",
       "      <th>Sex</th>\n",
       "      <th>Age</th>\n",
       "      <th>SibSp</th>\n",
       "      <th>Parch</th>\n",
       "      <th>Ticket</th>\n",
       "      <th>Fare</th>\n",
       "      <th>Cabin</th>\n",
       "      <th>Embarked</th>\n",
       "    </tr>\n",
       "  </thead>\n",
       "  <tbody>\n",
       "    <tr>\n",
       "      <th>0</th>\n",
       "      <td>1</td>\n",
       "      <td>0</td>\n",
       "      <td>3</td>\n",
       "      <td>Braund, Mr. Owen Harris</td>\n",
       "      <td>male</td>\n",
       "      <td>22.0</td>\n",
       "      <td>1</td>\n",
       "      <td>0</td>\n",
       "      <td>A/5 21171</td>\n",
       "      <td>7.2500</td>\n",
       "      <td>NaN</td>\n",
       "      <td>S</td>\n",
       "    </tr>\n",
       "    <tr>\n",
       "      <th>1</th>\n",
       "      <td>2</td>\n",
       "      <td>1</td>\n",
       "      <td>1</td>\n",
       "      <td>Cumings, Mrs. John Bradley (Florence Briggs Th...</td>\n",
       "      <td>female</td>\n",
       "      <td>38.0</td>\n",
       "      <td>1</td>\n",
       "      <td>0</td>\n",
       "      <td>PC 17599</td>\n",
       "      <td>71.2833</td>\n",
       "      <td>C85</td>\n",
       "      <td>C</td>\n",
       "    </tr>\n",
       "    <tr>\n",
       "      <th>2</th>\n",
       "      <td>3</td>\n",
       "      <td>1</td>\n",
       "      <td>3</td>\n",
       "      <td>Heikkinen, Miss. Laina</td>\n",
       "      <td>female</td>\n",
       "      <td>26.0</td>\n",
       "      <td>0</td>\n",
       "      <td>0</td>\n",
       "      <td>STON/O2. 3101282</td>\n",
       "      <td>7.9250</td>\n",
       "      <td>NaN</td>\n",
       "      <td>S</td>\n",
       "    </tr>\n",
       "    <tr>\n",
       "      <th>3</th>\n",
       "      <td>4</td>\n",
       "      <td>1</td>\n",
       "      <td>1</td>\n",
       "      <td>Futrelle, Mrs. Jacques Heath (Lily May Peel)</td>\n",
       "      <td>female</td>\n",
       "      <td>35.0</td>\n",
       "      <td>1</td>\n",
       "      <td>0</td>\n",
       "      <td>113803</td>\n",
       "      <td>53.1000</td>\n",
       "      <td>C123</td>\n",
       "      <td>S</td>\n",
       "    </tr>\n",
       "    <tr>\n",
       "      <th>4</th>\n",
       "      <td>5</td>\n",
       "      <td>0</td>\n",
       "      <td>3</td>\n",
       "      <td>Allen, Mr. William Henry</td>\n",
       "      <td>male</td>\n",
       "      <td>35.0</td>\n",
       "      <td>0</td>\n",
       "      <td>0</td>\n",
       "      <td>373450</td>\n",
       "      <td>8.0500</td>\n",
       "      <td>NaN</td>\n",
       "      <td>S</td>\n",
       "    </tr>\n",
       "  </tbody>\n",
       "</table>\n",
       "</div>"
      ],
      "text/plain": [
       "   PassengerId  Survived  Pclass  \\\n",
       "0            1         0       3   \n",
       "1            2         1       1   \n",
       "2            3         1       3   \n",
       "3            4         1       1   \n",
       "4            5         0       3   \n",
       "\n",
       "                                                Name     Sex   Age  SibSp  \\\n",
       "0                            Braund, Mr. Owen Harris    male  22.0      1   \n",
       "1  Cumings, Mrs. John Bradley (Florence Briggs Th...  female  38.0      1   \n",
       "2                             Heikkinen, Miss. Laina  female  26.0      0   \n",
       "3       Futrelle, Mrs. Jacques Heath (Lily May Peel)  female  35.0      1   \n",
       "4                           Allen, Mr. William Henry    male  35.0      0   \n",
       "\n",
       "   Parch            Ticket     Fare Cabin Embarked  \n",
       "0      0         A/5 21171   7.2500   NaN        S  \n",
       "1      0          PC 17599  71.2833   C85        C  \n",
       "2      0  STON/O2. 3101282   7.9250   NaN        S  \n",
       "3      0            113803  53.1000  C123        S  \n",
       "4      0            373450   8.0500   NaN        S  "
      ]
     },
     "execution_count": 6,
     "metadata": {},
     "output_type": "execute_result"
    }
   ],
   "source": [
    "dfTrain.head()"
   ]
  },
  {
   "cell_type": "code",
   "execution_count": 7,
   "id": "81d142b0",
   "metadata": {},
   "outputs": [
    {
     "data": {
      "text/html": [
       "<div>\n",
       "<style scoped>\n",
       "    .dataframe tbody tr th:only-of-type {\n",
       "        vertical-align: middle;\n",
       "    }\n",
       "\n",
       "    .dataframe tbody tr th {\n",
       "        vertical-align: top;\n",
       "    }\n",
       "\n",
       "    .dataframe thead th {\n",
       "        text-align: right;\n",
       "    }\n",
       "</style>\n",
       "<table border=\"1\" class=\"dataframe\">\n",
       "  <thead>\n",
       "    <tr style=\"text-align: right;\">\n",
       "      <th></th>\n",
       "      <th>PassengerId</th>\n",
       "      <th>Pclass</th>\n",
       "      <th>Name</th>\n",
       "      <th>Sex</th>\n",
       "      <th>Age</th>\n",
       "      <th>SibSp</th>\n",
       "      <th>Parch</th>\n",
       "      <th>Ticket</th>\n",
       "      <th>Fare</th>\n",
       "      <th>Cabin</th>\n",
       "      <th>Embarked</th>\n",
       "    </tr>\n",
       "  </thead>\n",
       "  <tbody>\n",
       "    <tr>\n",
       "      <th>0</th>\n",
       "      <td>892</td>\n",
       "      <td>3</td>\n",
       "      <td>Kelly, Mr. James</td>\n",
       "      <td>male</td>\n",
       "      <td>34.5</td>\n",
       "      <td>0</td>\n",
       "      <td>0</td>\n",
       "      <td>330911</td>\n",
       "      <td>7.8292</td>\n",
       "      <td>NaN</td>\n",
       "      <td>Q</td>\n",
       "    </tr>\n",
       "    <tr>\n",
       "      <th>1</th>\n",
       "      <td>893</td>\n",
       "      <td>3</td>\n",
       "      <td>Wilkes, Mrs. James (Ellen Needs)</td>\n",
       "      <td>female</td>\n",
       "      <td>47.0</td>\n",
       "      <td>1</td>\n",
       "      <td>0</td>\n",
       "      <td>363272</td>\n",
       "      <td>7.0000</td>\n",
       "      <td>NaN</td>\n",
       "      <td>S</td>\n",
       "    </tr>\n",
       "    <tr>\n",
       "      <th>2</th>\n",
       "      <td>894</td>\n",
       "      <td>2</td>\n",
       "      <td>Myles, Mr. Thomas Francis</td>\n",
       "      <td>male</td>\n",
       "      <td>62.0</td>\n",
       "      <td>0</td>\n",
       "      <td>0</td>\n",
       "      <td>240276</td>\n",
       "      <td>9.6875</td>\n",
       "      <td>NaN</td>\n",
       "      <td>Q</td>\n",
       "    </tr>\n",
       "    <tr>\n",
       "      <th>3</th>\n",
       "      <td>895</td>\n",
       "      <td>3</td>\n",
       "      <td>Wirz, Mr. Albert</td>\n",
       "      <td>male</td>\n",
       "      <td>27.0</td>\n",
       "      <td>0</td>\n",
       "      <td>0</td>\n",
       "      <td>315154</td>\n",
       "      <td>8.6625</td>\n",
       "      <td>NaN</td>\n",
       "      <td>S</td>\n",
       "    </tr>\n",
       "    <tr>\n",
       "      <th>4</th>\n",
       "      <td>896</td>\n",
       "      <td>3</td>\n",
       "      <td>Hirvonen, Mrs. Alexander (Helga E Lindqvist)</td>\n",
       "      <td>female</td>\n",
       "      <td>22.0</td>\n",
       "      <td>1</td>\n",
       "      <td>1</td>\n",
       "      <td>3101298</td>\n",
       "      <td>12.2875</td>\n",
       "      <td>NaN</td>\n",
       "      <td>S</td>\n",
       "    </tr>\n",
       "  </tbody>\n",
       "</table>\n",
       "</div>"
      ],
      "text/plain": [
       "   PassengerId  Pclass                                          Name     Sex   \n",
       "0          892       3                              Kelly, Mr. James    male  \\\n",
       "1          893       3              Wilkes, Mrs. James (Ellen Needs)  female   \n",
       "2          894       2                     Myles, Mr. Thomas Francis    male   \n",
       "3          895       3                              Wirz, Mr. Albert    male   \n",
       "4          896       3  Hirvonen, Mrs. Alexander (Helga E Lindqvist)  female   \n",
       "\n",
       "    Age  SibSp  Parch   Ticket     Fare Cabin Embarked  \n",
       "0  34.5      0      0   330911   7.8292   NaN        Q  \n",
       "1  47.0      1      0   363272   7.0000   NaN        S  \n",
       "2  62.0      0      0   240276   9.6875   NaN        Q  \n",
       "3  27.0      0      0   315154   8.6625   NaN        S  \n",
       "4  22.0      1      1  3101298  12.2875   NaN        S  "
      ]
     },
     "execution_count": 7,
     "metadata": {},
     "output_type": "execute_result"
    }
   ],
   "source": [
    "dfTest.head()"
   ]
  },
  {
   "cell_type": "markdown",
   "id": "8984bce8",
   "metadata": {},
   "source": [
    "##### Null 데이터 확인한다."
   ]
  },
  {
   "cell_type": "markdown",
   "id": "800a35fb",
   "metadata": {},
   "source": [
    "##### np.nan 은 float type, 만일 있으면 int 컬럼이 --> float 컬럼이 된다."
   ]
  },
  {
   "cell_type": "code",
   "execution_count": 7,
   "id": "4f264f31",
   "metadata": {},
   "outputs": [
    {
     "name": "stdout",
     "output_type": "stream",
     "text": [
      "<class 'pandas.core.frame.DataFrame'>\n",
      "RangeIndex: 891 entries, 0 to 890\n",
      "Data columns (total 12 columns):\n",
      " #   Column       Non-Null Count  Dtype  \n",
      "---  ------       --------------  -----  \n",
      " 0   PassengerId  891 non-null    int64  \n",
      " 1   Survived     891 non-null    int64  \n",
      " 2   Pclass       891 non-null    int64  \n",
      " 3   Name         891 non-null    object \n",
      " 4   Sex          891 non-null    object \n",
      " 5   Age          714 non-null    float64\n",
      " 6   SibSp        891 non-null    int64  \n",
      " 7   Parch        891 non-null    int64  \n",
      " 8   Ticket       891 non-null    object \n",
      " 9   Fare         891 non-null    float64\n",
      " 10  Cabin        204 non-null    object \n",
      " 11  Embarked     889 non-null    object \n",
      "dtypes: float64(2), int64(5), object(5)\n",
      "memory usage: 83.7+ KB\n"
     ]
    }
   ],
   "source": [
    "dfTrain.info()"
   ]
  },
  {
   "cell_type": "code",
   "execution_count": 9,
   "id": "79b30371",
   "metadata": {},
   "outputs": [
    {
     "name": "stdout",
     "output_type": "stream",
     "text": [
      "<class 'pandas.core.frame.DataFrame'>\n",
      "RangeIndex: 418 entries, 0 to 417\n",
      "Data columns (total 11 columns):\n",
      " #   Column       Non-Null Count  Dtype  \n",
      "---  ------       --------------  -----  \n",
      " 0   PassengerId  418 non-null    int64  \n",
      " 1   Pclass       418 non-null    int64  \n",
      " 2   Name         418 non-null    object \n",
      " 3   Sex          418 non-null    object \n",
      " 4   Age          332 non-null    float64\n",
      " 5   SibSp        418 non-null    int64  \n",
      " 6   Parch        418 non-null    int64  \n",
      " 7   Ticket       418 non-null    object \n",
      " 8   Fare         417 non-null    float64\n",
      " 9   Cabin        91 non-null     object \n",
      " 10  Embarked     418 non-null    object \n",
      "dtypes: float64(2), int64(4), object(5)\n",
      "memory usage: 36.1+ KB\n"
     ]
    }
   ],
   "source": [
    "dfTest.info()"
   ]
  },
  {
   "cell_type": "markdown",
   "id": "5c7b7c26",
   "metadata": {},
   "source": [
    "##### describe() 는 number type 만 보여줌."
   ]
  },
  {
   "cell_type": "code",
   "execution_count": 8,
   "id": "fec6fc02",
   "metadata": {},
   "outputs": [
    {
     "data": {
      "text/html": [
       "<div>\n",
       "<style scoped>\n",
       "    .dataframe tbody tr th:only-of-type {\n",
       "        vertical-align: middle;\n",
       "    }\n",
       "\n",
       "    .dataframe tbody tr th {\n",
       "        vertical-align: top;\n",
       "    }\n",
       "\n",
       "    .dataframe thead th {\n",
       "        text-align: right;\n",
       "    }\n",
       "</style>\n",
       "<table border=\"1\" class=\"dataframe\">\n",
       "  <thead>\n",
       "    <tr style=\"text-align: right;\">\n",
       "      <th></th>\n",
       "      <th>PassengerId</th>\n",
       "      <th>Survived</th>\n",
       "      <th>Pclass</th>\n",
       "      <th>Age</th>\n",
       "      <th>SibSp</th>\n",
       "      <th>Parch</th>\n",
       "      <th>Fare</th>\n",
       "    </tr>\n",
       "  </thead>\n",
       "  <tbody>\n",
       "    <tr>\n",
       "      <th>count</th>\n",
       "      <td>891.000000</td>\n",
       "      <td>891.000000</td>\n",
       "      <td>891.000000</td>\n",
       "      <td>714.000000</td>\n",
       "      <td>891.000000</td>\n",
       "      <td>891.000000</td>\n",
       "      <td>891.000000</td>\n",
       "    </tr>\n",
       "    <tr>\n",
       "      <th>mean</th>\n",
       "      <td>446.000000</td>\n",
       "      <td>0.383838</td>\n",
       "      <td>2.308642</td>\n",
       "      <td>29.699118</td>\n",
       "      <td>0.523008</td>\n",
       "      <td>0.381594</td>\n",
       "      <td>32.204208</td>\n",
       "    </tr>\n",
       "    <tr>\n",
       "      <th>std</th>\n",
       "      <td>257.353842</td>\n",
       "      <td>0.486592</td>\n",
       "      <td>0.836071</td>\n",
       "      <td>14.526497</td>\n",
       "      <td>1.102743</td>\n",
       "      <td>0.806057</td>\n",
       "      <td>49.693429</td>\n",
       "    </tr>\n",
       "    <tr>\n",
       "      <th>min</th>\n",
       "      <td>1.000000</td>\n",
       "      <td>0.000000</td>\n",
       "      <td>1.000000</td>\n",
       "      <td>0.420000</td>\n",
       "      <td>0.000000</td>\n",
       "      <td>0.000000</td>\n",
       "      <td>0.000000</td>\n",
       "    </tr>\n",
       "    <tr>\n",
       "      <th>25%</th>\n",
       "      <td>223.500000</td>\n",
       "      <td>0.000000</td>\n",
       "      <td>2.000000</td>\n",
       "      <td>20.125000</td>\n",
       "      <td>0.000000</td>\n",
       "      <td>0.000000</td>\n",
       "      <td>7.910400</td>\n",
       "    </tr>\n",
       "    <tr>\n",
       "      <th>50%</th>\n",
       "      <td>446.000000</td>\n",
       "      <td>0.000000</td>\n",
       "      <td>3.000000</td>\n",
       "      <td>28.000000</td>\n",
       "      <td>0.000000</td>\n",
       "      <td>0.000000</td>\n",
       "      <td>14.454200</td>\n",
       "    </tr>\n",
       "    <tr>\n",
       "      <th>75%</th>\n",
       "      <td>668.500000</td>\n",
       "      <td>1.000000</td>\n",
       "      <td>3.000000</td>\n",
       "      <td>38.000000</td>\n",
       "      <td>1.000000</td>\n",
       "      <td>0.000000</td>\n",
       "      <td>31.000000</td>\n",
       "    </tr>\n",
       "    <tr>\n",
       "      <th>max</th>\n",
       "      <td>891.000000</td>\n",
       "      <td>1.000000</td>\n",
       "      <td>3.000000</td>\n",
       "      <td>80.000000</td>\n",
       "      <td>8.000000</td>\n",
       "      <td>6.000000</td>\n",
       "      <td>512.329200</td>\n",
       "    </tr>\n",
       "  </tbody>\n",
       "</table>\n",
       "</div>"
      ],
      "text/plain": [
       "       PassengerId    Survived      Pclass         Age       SibSp  \\\n",
       "count   891.000000  891.000000  891.000000  714.000000  891.000000   \n",
       "mean    446.000000    0.383838    2.308642   29.699118    0.523008   \n",
       "std     257.353842    0.486592    0.836071   14.526497    1.102743   \n",
       "min       1.000000    0.000000    1.000000    0.420000    0.000000   \n",
       "25%     223.500000    0.000000    2.000000   20.125000    0.000000   \n",
       "50%     446.000000    0.000000    3.000000   28.000000    0.000000   \n",
       "75%     668.500000    1.000000    3.000000   38.000000    1.000000   \n",
       "max     891.000000    1.000000    3.000000   80.000000    8.000000   \n",
       "\n",
       "            Parch        Fare  \n",
       "count  891.000000  891.000000  \n",
       "mean     0.381594   32.204208  \n",
       "std      0.806057   49.693429  \n",
       "min      0.000000    0.000000  \n",
       "25%      0.000000    7.910400  \n",
       "50%      0.000000   14.454200  \n",
       "75%      0.000000   31.000000  \n",
       "max      6.000000  512.329200  "
      ]
     },
     "execution_count": 8,
     "metadata": {},
     "output_type": "execute_result"
    }
   ],
   "source": [
    "dfTrain.describe()"
   ]
  },
  {
   "cell_type": "code",
   "execution_count": 11,
   "id": "0431e3de",
   "metadata": {},
   "outputs": [
    {
     "data": {
      "text/html": [
       "<div>\n",
       "<style scoped>\n",
       "    .dataframe tbody tr th:only-of-type {\n",
       "        vertical-align: middle;\n",
       "    }\n",
       "\n",
       "    .dataframe tbody tr th {\n",
       "        vertical-align: top;\n",
       "    }\n",
       "\n",
       "    .dataframe thead th {\n",
       "        text-align: right;\n",
       "    }\n",
       "</style>\n",
       "<table border=\"1\" class=\"dataframe\">\n",
       "  <thead>\n",
       "    <tr style=\"text-align: right;\">\n",
       "      <th></th>\n",
       "      <th>PassengerId</th>\n",
       "      <th>Pclass</th>\n",
       "      <th>Age</th>\n",
       "      <th>SibSp</th>\n",
       "      <th>Parch</th>\n",
       "      <th>Fare</th>\n",
       "    </tr>\n",
       "  </thead>\n",
       "  <tbody>\n",
       "    <tr>\n",
       "      <th>count</th>\n",
       "      <td>418.000000</td>\n",
       "      <td>418.000000</td>\n",
       "      <td>332.000000</td>\n",
       "      <td>418.000000</td>\n",
       "      <td>418.000000</td>\n",
       "      <td>417.000000</td>\n",
       "    </tr>\n",
       "    <tr>\n",
       "      <th>mean</th>\n",
       "      <td>1100.500000</td>\n",
       "      <td>2.265550</td>\n",
       "      <td>30.272590</td>\n",
       "      <td>0.447368</td>\n",
       "      <td>0.392344</td>\n",
       "      <td>35.627188</td>\n",
       "    </tr>\n",
       "    <tr>\n",
       "      <th>std</th>\n",
       "      <td>120.810458</td>\n",
       "      <td>0.841838</td>\n",
       "      <td>14.181209</td>\n",
       "      <td>0.896760</td>\n",
       "      <td>0.981429</td>\n",
       "      <td>55.907576</td>\n",
       "    </tr>\n",
       "    <tr>\n",
       "      <th>min</th>\n",
       "      <td>892.000000</td>\n",
       "      <td>1.000000</td>\n",
       "      <td>0.170000</td>\n",
       "      <td>0.000000</td>\n",
       "      <td>0.000000</td>\n",
       "      <td>0.000000</td>\n",
       "    </tr>\n",
       "    <tr>\n",
       "      <th>25%</th>\n",
       "      <td>996.250000</td>\n",
       "      <td>1.000000</td>\n",
       "      <td>21.000000</td>\n",
       "      <td>0.000000</td>\n",
       "      <td>0.000000</td>\n",
       "      <td>7.895800</td>\n",
       "    </tr>\n",
       "    <tr>\n",
       "      <th>50%</th>\n",
       "      <td>1100.500000</td>\n",
       "      <td>3.000000</td>\n",
       "      <td>27.000000</td>\n",
       "      <td>0.000000</td>\n",
       "      <td>0.000000</td>\n",
       "      <td>14.454200</td>\n",
       "    </tr>\n",
       "    <tr>\n",
       "      <th>75%</th>\n",
       "      <td>1204.750000</td>\n",
       "      <td>3.000000</td>\n",
       "      <td>39.000000</td>\n",
       "      <td>1.000000</td>\n",
       "      <td>0.000000</td>\n",
       "      <td>31.500000</td>\n",
       "    </tr>\n",
       "    <tr>\n",
       "      <th>max</th>\n",
       "      <td>1309.000000</td>\n",
       "      <td>3.000000</td>\n",
       "      <td>76.000000</td>\n",
       "      <td>8.000000</td>\n",
       "      <td>9.000000</td>\n",
       "      <td>512.329200</td>\n",
       "    </tr>\n",
       "  </tbody>\n",
       "</table>\n",
       "</div>"
      ],
      "text/plain": [
       "       PassengerId      Pclass         Age       SibSp       Parch        Fare\n",
       "count   418.000000  418.000000  332.000000  418.000000  418.000000  417.000000\n",
       "mean   1100.500000    2.265550   30.272590    0.447368    0.392344   35.627188\n",
       "std     120.810458    0.841838   14.181209    0.896760    0.981429   55.907576\n",
       "min     892.000000    1.000000    0.170000    0.000000    0.000000    0.000000\n",
       "25%     996.250000    1.000000   21.000000    0.000000    0.000000    7.895800\n",
       "50%    1100.500000    3.000000   27.000000    0.000000    0.000000   14.454200\n",
       "75%    1204.750000    3.000000   39.000000    1.000000    0.000000   31.500000\n",
       "max    1309.000000    3.000000   76.000000    8.000000    9.000000  512.329200"
      ]
     },
     "execution_count": 11,
     "metadata": {},
     "output_type": "execute_result"
    }
   ],
   "source": [
    "dfTest.describe()"
   ]
  },
  {
   "cell_type": "markdown",
   "id": "1e7aebc3",
   "metadata": {},
   "source": [
    "### 3. 데이터 전처리"
   ]
  },
  {
   "cell_type": "markdown",
   "id": "32dde939",
   "metadata": {},
   "source": [
    "#####  AI 알고리즘을 실행하기 전에, 데이터를 목적에 맞게 변환한다.\n",
    "##### EDA (Exploratory Data Analysis), 탐색적 데이터 분석을 통해, 데이터 특성을 파악한다.\n",
    "##### --------------------------------------------------------------------------------------------\n",
    "##### EDA (Exploratory Data Analysis), 탐색적 데이터 분석\n",
    "###### &emsp; - 데이터를 다양한 각도에서 관찰하고 이해하는 과정\n",
    "###### &emsp; - 표, 그래프, 통계값 등 다양한 지식 등을 활용, (예를 들어) 이상치, 속성간의 관계, 주요한 속성 등을 찾아낸다.\n",
    "###### &emsp; *. 이 과정을 확장하여, 데이터 분석을 통해 [데이터 인사이트]를 발굴할 수도 있다."
   ]
  },
  {
   "cell_type": "markdown",
   "id": "af22c12e",
   "metadata": {},
   "source": [
    "##### EDA (매우 다양하게 진행할 수 있다)"
   ]
  },
  {
   "cell_type": "code",
   "execution_count": 9,
   "id": "379dcae5",
   "metadata": {},
   "outputs": [
    {
     "data": {
      "text/plain": [
       "Survived\n",
       "0    549\n",
       "1    342\n",
       "Name: count, dtype: int64"
      ]
     },
     "execution_count": 9,
     "metadata": {},
     "output_type": "execute_result"
    }
   ],
   "source": [
    "dfTrain.Survived.value_counts()"
   ]
  },
  {
   "cell_type": "code",
   "execution_count": 10,
   "id": "472017f0",
   "metadata": {},
   "outputs": [
    {
     "data": {
      "text/plain": [
       "<Axes: xlabel='Survived', ylabel='count'>"
      ]
     },
     "execution_count": 10,
     "metadata": {},
     "output_type": "execute_result"
    },
    {
     "data": {
      "image/png": "[encoded data removed]",
      "text/plain": [
       "<Figure size 640x480 with 1 Axes>"
      ]
     },
     "metadata": {},
     "output_type": "display_data"
    }
   ],
   "source": [
    "sns.countplot(data=dfTrain, x='Survived', hue='Sex')"
   ]
  },
  {
   "cell_type": "markdown",
   "id": "05ba15b2",
   "metadata": {},
   "source": [
    "### 3-1. 불필요한 컬럼 삭제"
   ]
  },
  {
   "cell_type": "markdown",
   "id": "e96148fb",
   "metadata": {},
   "source": [
    "##### -. target 컬럼에 영향을 주는 feature(컬럼) 를 선택 --> feature selection 은 중요한 분야임\n",
    "##### -. 여기서는 직관적으로 불필요한 컬럼을 선택함"
   ]
  },
  {
   "cell_type": "markdown",
   "id": "6273916b",
   "metadata": {},
   "source": [
    "##### 함수로 만들면, train 및 test 데이터에 동일하게 적용할 수 있다."
   ]
  },
  {
   "cell_type": "code",
   "execution_count": 11,
   "id": "973ebd51",
   "metadata": {},
   "outputs": [],
   "source": [
    "# 불필요한 컬럼 삭제\n",
    "def del_cols(df):\n",
    "    df = df.copy()\n",
    "    cols = ['PassengerId', 'Name', 'Ticket']\n",
    "    df = df.drop(cols, axis=1)\n",
    "    print(f\"del_cols(): {df.shape=}\")\n",
    "    return df"
   ]
  },
  {
   "cell_type": "code",
   "execution_count": 12,
   "id": "de957bb6",
   "metadata": {},
   "outputs": [
    {
     "name": "stdout",
     "output_type": "stream",
     "text": [
      "del_cols(): df.shape=(891, 9)\n"
     ]
    },
    {
     "data": {
      "text/plain": [
       "(891, 9)"
      ]
     },
     "execution_count": 12,
     "metadata": {},
     "output_type": "execute_result"
    }
   ],
   "source": [
    "dfDrop = del_cols(dfTrain)\n",
    "dfDrop.shape"
   ]
  },
  {
   "cell_type": "markdown",
   "id": "9152111c",
   "metadata": {},
   "source": [
    "### 3-2. NaN 처리"
   ]
  },
  {
   "cell_type": "markdown",
   "id": "530ef7be",
   "metadata": {},
   "source": [
    "##### -. NaN 값이 많은 컬럼은 삭제한다.\n",
    "##### -. 아니면, NaN 을 다른 값으로 바꾼다. (평균값, 중간값, 최빈값 등)"
   ]
  },
  {
   "cell_type": "code",
   "execution_count": 13,
   "id": "5da041b1",
   "metadata": {},
   "outputs": [
    {
     "name": "stdout",
     "output_type": "stream",
     "text": [
      "------------------------------ Age\n",
      "Age\n",
      "24.00    30\n",
      "22.00    27\n",
      "18.00    26\n",
      "19.00    25\n",
      "28.00    25\n",
      "         ..\n",
      "36.50     1\n",
      "55.50     1\n",
      "0.92      1\n",
      "23.50     1\n",
      "74.00     1\n",
      "Name: count, Length: 88, dtype: int64\n",
      "------------------------------ Fare\n",
      "Fare\n",
      "8.0500     43\n",
      "13.0000    42\n",
      "7.8958     38\n",
      "7.7500     34\n",
      "26.0000    31\n",
      "           ..\n",
      "35.0000     1\n",
      "28.5000     1\n",
      "6.2375      1\n",
      "14.0000     1\n",
      "10.5167     1\n",
      "Name: count, Length: 248, dtype: int64\n",
      "------------------------------ Cabin\n",
      "Cabin\n",
      "B96 B98        4\n",
      "G6             4\n",
      "C23 C25 C27    4\n",
      "C22 C26        3\n",
      "F33            3\n",
      "              ..\n",
      "E34            1\n",
      "C7             1\n",
      "C54            1\n",
      "E36            1\n",
      "C148           1\n",
      "Name: count, Length: 147, dtype: int64\n",
      "------------------------------ Embarked\n",
      "Embarked\n",
      "S    644\n",
      "C    168\n",
      "Q     77\n",
      "Name: count, dtype: int64\n"
     ]
    }
   ],
   "source": [
    "cols = ['Age', 'Fare', 'Cabin', 'Embarked']\n",
    "for c in cols:\n",
    "    print('-' * 30, c)\n",
    "    print(dfDrop[c].value_counts())"
   ]
  },
  {
   "cell_type": "code",
   "execution_count": 14,
   "id": "0c9ac9d2",
   "metadata": {},
   "outputs": [
    {
     "data": {
      "text/plain": [
       "0    S\n",
       "Name: Embarked, dtype: object"
      ]
     },
     "execution_count": 14,
     "metadata": {},
     "output_type": "execute_result"
    }
   ],
   "source": [
    "dfDrop.Embarked.mode()"
   ]
  },
  {
   "cell_type": "code",
   "execution_count": 15,
   "id": "98e7aefb",
   "metadata": {},
   "outputs": [
    {
     "data": {
      "text/plain": [
       "29.69911764705882"
      ]
     },
     "execution_count": 15,
     "metadata": {},
     "output_type": "execute_result"
    }
   ],
   "source": [
    "dfDrop.Age.mean()"
   ]
  },
  {
   "cell_type": "code",
   "execution_count": 16,
   "id": "ed05e025",
   "metadata": {},
   "outputs": [
    {
     "data": {
      "text/plain": [
       "32.204207968574636"
      ]
     },
     "execution_count": 16,
     "metadata": {},
     "output_type": "execute_result"
    }
   ],
   "source": [
    "dfDrop.Fare.mean()"
   ]
  },
  {
   "cell_type": "markdown",
   "id": "e085bedd",
   "metadata": {},
   "source": [
    "##### Cabin 컬럼은 나중에 첫 글자만 추출할 것이므로, NaN -> Z 로 치환한다. (현 데이터에 Z 사용 안하므로)"
   ]
  },
  {
   "cell_type": "code",
   "execution_count": 17,
   "id": "33bf45d4",
   "metadata": {},
   "outputs": [],
   "source": [
    "# null 처리\n",
    "def na_handle(df):\n",
    "    df = df.copy()\n",
    "    df['Age'] = df.Age.fillna(df.Age.mean()).astype('int')\n",
    "    df['Cabin'] = df.Cabin.fillna('Z')\n",
    "    df['Embarked'] = df.Embarked.fillna(df.Embarked.mode().values[0])\n",
    "    df['Fare'] = df.Fare.fillna(df.Fare.mean())    \n",
    "    print(f\"na_handle(): {df.shape=}\")\n",
    "    return df"
   ]
  },
  {
   "cell_type": "code",
   "execution_count": 18,
   "id": "082b5b53",
   "metadata": {},
   "outputs": [
    {
     "name": "stdout",
     "output_type": "stream",
     "text": [
      "na_handle(): df.shape=(891, 9)\n"
     ]
    },
    {
     "data": {
      "text/plain": [
       "(891, 9)"
      ]
     },
     "execution_count": 18,
     "metadata": {},
     "output_type": "execute_result"
    }
   ],
   "source": [
    "dfNa = na_handle(dfDrop)\n",
    "dfNa.shape"
   ]
  },
  {
   "cell_type": "markdown",
   "id": "9beb77cf",
   "metadata": {},
   "source": [
    "### 3-3. 그 외 처리"
   ]
  },
  {
   "cell_type": "markdown",
   "id": "7c3da0e0",
   "metadata": {},
   "source": [
    "##### -. Cabin 컬럼의 첫 글자는 의미가 있다."
   ]
  },
  {
   "cell_type": "code",
   "execution_count": 19,
   "id": "66988c42",
   "metadata": {},
   "outputs": [],
   "source": [
    "# 그 외 처리\n",
    "def pre_etc(df):\n",
    "    df = df.copy()\n",
    "    df['Cabin'] = df.Cabin.str[0]\n",
    "    print(f\"pre_etc(): {df.shape=}\")\n",
    "    return df"
   ]
  },
  {
   "cell_type": "code",
   "execution_count": 20,
   "id": "66e41b8b",
   "metadata": {},
   "outputs": [
    {
     "name": "stdout",
     "output_type": "stream",
     "text": [
      "pre_etc(): df.shape=(891, 9)\n"
     ]
    },
    {
     "data": {
      "text/plain": [
       "(891, 9)"
      ]
     },
     "execution_count": 20,
     "metadata": {},
     "output_type": "execute_result"
    }
   ],
   "source": [
    "dfEtc = pre_etc(dfNa)\n",
    "dfEtc.shape"
   ]
  },
  {
   "cell_type": "markdown",
   "id": "a9f14bc4",
   "metadata": {},
   "source": [
    "### 전처리 함수들 정리"
   ]
  },
  {
   "cell_type": "code",
   "execution_count": 21,
   "id": "42585a1e",
   "metadata": {},
   "outputs": [],
   "source": [
    "# 위 3개 모음\n",
    "def pre_process(df):\n",
    "    df = del_cols(df)\n",
    "    df = na_handle(df)\n",
    "    df = pre_etc(df)\n",
    "    print(f\"pre_process: {df.shape=}\")\n",
    "    return df"
   ]
  },
  {
   "cell_type": "code",
   "execution_count": 22,
   "id": "97315d08",
   "metadata": {},
   "outputs": [
    {
     "name": "stdout",
     "output_type": "stream",
     "text": [
      "del_cols(): df.shape=(891, 9)\n",
      "na_handle(): df.shape=(891, 9)\n",
      "pre_etc(): df.shape=(891, 9)\n",
      "pre_process: df.shape=(891, 9)\n"
     ]
    }
   ],
   "source": [
    "dfPreN = pre_process(dfTrain)"
   ]
  },
  {
   "cell_type": "code",
   "execution_count": 25,
   "id": "d1952254",
   "metadata": {},
   "outputs": [
    {
     "name": "stdout",
     "output_type": "stream",
     "text": [
      "del_cols(): df.shape=(418, 8)\n",
      "na_handle(): df.shape=(418, 8)\n",
      "pre_etc(): df.shape=(418, 8)\n",
      "pre_process: df.shape=(418, 8)\n"
     ]
    }
   ],
   "source": [
    "dfPreT = pre_process(dfTest)"
   ]
  },
  {
   "cell_type": "markdown",
   "id": "2af7c068",
   "metadata": {},
   "source": [
    "##### 전처리 후, 데이터 확인"
   ]
  },
  {
   "cell_type": "code",
   "execution_count": 23,
   "id": "c15faaad",
   "metadata": {},
   "outputs": [
    {
     "data": {
      "text/plain": [
       "Survived\n",
       "0    549\n",
       "1    342\n",
       "Name: count, dtype: int64"
      ]
     },
     "execution_count": 23,
     "metadata": {},
     "output_type": "execute_result"
    }
   ],
   "source": [
    "dfPreN.Survived.value_counts()"
   ]
  },
  {
   "cell_type": "code",
   "execution_count": 26,
   "id": "5bf16728",
   "metadata": {},
   "outputs": [
    {
     "data": {
      "text/plain": [
       "(0, 0)"
      ]
     },
     "execution_count": 26,
     "metadata": {},
     "output_type": "execute_result"
    }
   ],
   "source": [
    "dfPreN.isna().sum().sum(), dfPreT.isna().sum().sum()"
   ]
  },
  {
   "cell_type": "code",
   "execution_count": null,
   "id": "30e748f2",
   "metadata": {},
   "outputs": [],
   "source": []
  },
  {
   "cell_type": "markdown",
   "id": "30bad651",
   "metadata": {},
   "source": [
    "### 4. Label Encoding"
   ]
  },
  {
   "cell_type": "markdown",
   "id": "d063e76e",
   "metadata": {},
   "source": [
    "##### (1) 문자열 컬럼에, 각 컬럼별로 수행한다. (2) Train 과 Test 에 동일한 Encoder 를 사용한다.\n",
    "##### (참고) One-Hot Encoding"
   ]
  },
  {
   "cell_type": "code",
   "execution_count": 30,
   "id": "2782748a",
   "metadata": {},
   "outputs": [],
   "source": [
    "from sklearn.preprocessing import LabelEncoder"
   ]
  },
  {
   "cell_type": "code",
   "execution_count": 31,
   "id": "63f6b61c",
   "metadata": {},
   "outputs": [],
   "source": [
    "def label_encode(df1, df2):\n",
    "    le = LabelEncoder()\n",
    "    \n",
    "    df1 = df1.copy()\n",
    "    df2 = df2.copy()\n",
    "    for c in df1.select_dtypes('object').columns:\n",
    "        le.fit(df1[c])\n",
    "        df1[c] = le.transform(df1[c])\n",
    "        df2[c] = le.transform(df2[c])\n",
    "    print(f\"label_encode(): {df1.shape=}, {df2.shape=}\")\n",
    "    return df1, df2"
   ]
  },
  {
   "cell_type": "code",
   "execution_count": 32,
   "id": "2c449654",
   "metadata": {},
   "outputs": [
    {
     "name": "stdout",
     "output_type": "stream",
     "text": [
      "label_encode(): df1.shape=(891, 9), df2.shape=(418, 8)\n"
     ]
    }
   ],
   "source": [
    "dfLabelN, dfLabelT = label_encode(dfPreN, dfPreT)"
   ]
  },
  {
   "cell_type": "markdown",
   "id": "494355dc",
   "metadata": {},
   "source": [
    "### 5. Standard Scaling"
   ]
  },
  {
   "cell_type": "markdown",
   "id": "d53aaafc",
   "metadata": {},
   "source": [
    "##### (1) 모든 컬럼에, 한꺼번에 수행한다. (2) Train 과 Test 에 동일한 Scaler 를 사용한다.\n",
    "##### (참고) MinMaxScaling"
   ]
  },
  {
   "cell_type": "code",
   "execution_count": 33,
   "id": "b442f8a1",
   "metadata": {},
   "outputs": [],
   "source": [
    "from sklearn.preprocessing import StandardScaler"
   ]
  },
  {
   "cell_type": "code",
   "execution_count": 34,
   "id": "9106bfaf",
   "metadata": {},
   "outputs": [],
   "source": [
    "def standard_scale(df1, df2):\n",
    "    scaler = StandardScaler()\n",
    "    \n",
    "    df1 = df1.copy()\n",
    "    df2 = df2.copy()\n",
    "    target = df1.pop('Survived')\n",
    "    \n",
    "    scaler.fit(df1)\n",
    "    scale1 = scaler.transform(df1)\n",
    "    scale2 = scaler.transform(df2)\n",
    "    \n",
    "    tmp = pd.DataFrame(scale1, columns=df1.columns)\n",
    "    df1 = pd.concat([target, tmp], axis=1)\n",
    "    df2 = pd.DataFrame(scale2, columns=df2.columns)\n",
    "    \n",
    "    print(f\"standard_scale(): {df1.shape=}, {df2.shape=}\")\n",
    "    return df1, df2"
   ]
  },
  {
   "cell_type": "code",
   "execution_count": 35,
   "id": "bf05d79b",
   "metadata": {},
   "outputs": [
    {
     "name": "stdout",
     "output_type": "stream",
     "text": [
      "standard_scale(): df1.shape=(891, 9), df2.shape=(418, 8)\n"
     ]
    }
   ],
   "source": [
    "dfScaleN, dfScaleT = standard_scale(dfLabelN, dfLabelT)"
   ]
  },
  {
   "cell_type": "markdown",
   "id": "437eaa32",
   "metadata": {},
   "source": [
    "### 6. train_test_split()"
   ]
  },
  {
   "cell_type": "markdown",
   "id": "2ad82311",
   "metadata": {},
   "source": [
    "##### dfTrain 대상, dfTest 는 적용대상 아님\n",
    "##### &emsp; -. Train 데이터는 모델 학습용, Test 데이터는 모델 평가용\n",
    "##### &emsp; -. Valid 데이터는 과적합(Overfitting) 방지용\n",
    "##### stratify=y : y 데이터의 비율을 유지하면서, 데이터를 분리함"
   ]
  },
  {
   "cell_type": "code",
   "execution_count": 36,
   "id": "c7f573f7",
   "metadata": {},
   "outputs": [],
   "source": [
    "from sklearn.model_selection import train_test_split"
   ]
  },
  {
   "cell_type": "code",
   "execution_count": 37,
   "id": "ba76cd88",
   "metadata": {},
   "outputs": [
    {
     "name": "stdout",
     "output_type": "stream",
     "text": [
      "trainX.shape=(712, 8), testX.shape=(179, 8), trainy.shape=(712,), testy.shape=(179,)\n"
     ]
    }
   ],
   "source": [
    "X = dfScaleN.drop('Survived', axis=1)\n",
    "y = dfScaleN.Survived\n",
    "\n",
    "trainX, testX, trainy, testy = train_test_split(X, y, test_size=0.2, random_state=1004, stratify=y)\n",
    "print(f\"{trainX.shape=}, {testX.shape=}, {trainy.shape=}, {testy.shape=}\")"
   ]
  },
  {
   "cell_type": "markdown",
   "id": "30a6ccc9",
   "metadata": {},
   "source": [
    "# 7. 모델 학습/평가"
   ]
  },
  {
   "cell_type": "markdown",
   "id": "7343d418",
   "metadata": {},
   "source": [
    "##### 처리 과정 : 알고리즘 선택(초기 모델) -> 학습 -> 평가 --(반복)--> 최종 모델\n",
    "##### 분류 알고리즘 예시 : 결정 트리, 랜덤 포레스트, 로지스틱 회귀"
   ]
  },
  {
   "cell_type": "markdown",
   "id": "fed8b990",
   "metadata": {},
   "source": [
    "### Decision Tree, 결정 트리 알고리즘"
   ]
  },
  {
   "cell_type": "code",
   "execution_count": 38,
   "id": "2a3de267",
   "metadata": {},
   "outputs": [],
   "source": [
    "from sklearn.tree import DecisionTreeClassifier\n",
    "from sklearn.metrics import accuracy_score"
   ]
  },
  {
   "cell_type": "code",
   "execution_count": 39,
   "id": "115e8ca7",
   "metadata": {},
   "outputs": [
    {
     "name": "stdout",
     "output_type": "stream",
     "text": [
      "Decision Tree 정확도 : 0.7654\n"
     ]
    }
   ],
   "source": [
    "dt = DecisionTreeClassifier(random_state=1004)\n",
    "dt.fit(trainX, trainy)\n",
    "dtPreds = dt.predict(testX)\n",
    "\n",
    "acc = accuracy_score(testy, dtPreds)\n",
    "print(f\"Decision Tree 정확도 : {acc:.4f}\")"
   ]
  },
  {
   "cell_type": "markdown",
   "id": "902424cc",
   "metadata": {},
   "source": [
    "### 다른 알고리즘"
   ]
  },
  {
   "cell_type": "code",
   "execution_count": 40,
   "id": "d2db5722",
   "metadata": {},
   "outputs": [],
   "source": [
    "from sklearn.ensemble import RandomForestClassifier\n",
    "from sklearn.linear_model import LogisticRegression"
   ]
  },
  {
   "cell_type": "code",
   "execution_count": 41,
   "id": "20dfc268",
   "metadata": {},
   "outputs": [
    {
     "name": "stdout",
     "output_type": "stream",
     "text": [
      "Random Forest 정확도 : 0.7989\n",
      "Logistic Regression 정확도 : 0.8045\n"
     ]
    }
   ],
   "source": [
    "rf = RandomForestClassifier(random_state=1004)\n",
    "lr = LogisticRegression(random_state=1004)\n",
    "\n",
    "rf.fit(trainX, trainy)\n",
    "lr.fit(trainX, trainy)\n",
    "\n",
    "rfPreds = rf.predict(testX)\n",
    "lrPreds = lr.predict(testX)\n",
    "\n",
    "rfAcc = accuracy_score(testy, rfPreds)\n",
    "lrAcc = accuracy_score(testy, lrPreds)\n",
    "print(f\"Random Forest 정확도 : {rfAcc:.4f}\")\n",
    "print(f\"Logistic Regression 정확도 : {lrAcc:.4f}\")"
   ]
  },
  {
   "cell_type": "code",
   "execution_count": null,
   "id": "96949db4",
   "metadata": {},
   "outputs": [],
   "source": []
  },
  {
   "cell_type": "markdown",
   "id": "755a11f2",
   "metadata": {},
   "source": [
    "### 8. 실제 예측"
   ]
  },
  {
   "cell_type": "markdown",
   "id": "15b5fa84",
   "metadata": {},
   "source": [
    "##### 최종 모델을 만든 후에, 실제 데이터를 예측한다.\n",
    "##### target 컬럼이 없는 데이터에, 최종 모델을 적용해 값을 예측함.\n",
    "##### (최종 모델 활용 예시) : 실제 데이터 예측, 해커톤 답안 제출, 웹 프로그램에 활용, 등등등"
   ]
  },
  {
   "cell_type": "code",
   "execution_count": 42,
   "id": "11ca557a",
   "metadata": {},
   "outputs": [
    {
     "data": {
      "text/plain": [
       "(418, 8)"
      ]
     },
     "execution_count": 42,
     "metadata": {},
     "output_type": "execute_result"
    }
   ],
   "source": [
    "# dfTest = pd.read_csv(TEST_DATA)\n",
    "# dfScaleT = standard_scale(dfLabelT)\n",
    "\n",
    "# REAL_DATA, dfReal, dfPreR, dfLabelR, dfScaleR\n",
    "dfScaleR = dfScaleT\n",
    "dfScaleR.shape"
   ]
  },
  {
   "cell_type": "code",
   "execution_count": 43,
   "id": "1fc95373",
   "metadata": {},
   "outputs": [
    {
     "name": "stdout",
     "output_type": "stream",
     "text": [
      "preds.shape=(418,)\n"
     ]
    }
   ],
   "source": [
    "preds = lr.predict(dfScaleR)\n",
    "print(f\"{preds.shape=}\")"
   ]
  },
  {
   "cell_type": "code",
   "execution_count": 44,
   "id": "9bb196fb",
   "metadata": {},
   "outputs": [
    {
     "data": {
      "text/plain": [
       "array([0, 0, 0, 0, 1, 0, 1, 0, 1, 0], dtype=int64)"
      ]
     },
     "execution_count": 44,
     "metadata": {},
     "output_type": "execute_result"
    }
   ],
   "source": [
    "preds[:10]"
   ]
  },
  {
   "cell_type": "markdown",
   "id": "4853f229",
   "metadata": {},
   "source": [
    "# 데이터 분석 예시"
   ]
  },
  {
   "cell_type": "code",
   "execution_count": 45,
   "id": "402ff1b4",
   "metadata": {},
   "outputs": [
    {
     "data": {
      "text/plain": [
       "((891, 12), (891, 9))"
      ]
     },
     "execution_count": 45,
     "metadata": {},
     "output_type": "execute_result"
    }
   ],
   "source": [
    "dfTrain.shape, dfPreN.shape"
   ]
  },
  {
   "cell_type": "code",
   "execution_count": 46,
   "id": "82a726ff",
   "metadata": {},
   "outputs": [
    {
     "name": "stdout",
     "output_type": "stream",
     "text": [
      "------------------------------ Survived\n",
      "Survived\n",
      "0    549\n",
      "1    342\n",
      "Name: count, dtype: int64\n",
      "------------------------------ Pclass\n",
      "Pclass\n",
      "3    491\n",
      "1    216\n",
      "2    184\n",
      "Name: count, dtype: int64\n",
      "------------------------------ Sex\n",
      "Sex\n",
      "male      577\n",
      "female    314\n",
      "Name: count, dtype: int64\n",
      "------------------------------ Age\n",
      "Age\n",
      "29    197\n",
      "24     31\n",
      "22     27\n",
      "28     27\n",
      "30     27\n",
      "     ... \n",
      "66      1\n",
      "53      1\n",
      "80      1\n",
      "12      1\n",
      "74      1\n",
      "Name: count, Length: 71, dtype: int64\n",
      "------------------------------ SibSp\n",
      "SibSp\n",
      "0    608\n",
      "1    209\n",
      "2     28\n",
      "4     18\n",
      "3     16\n",
      "8      7\n",
      "5      5\n",
      "Name: count, dtype: int64\n",
      "------------------------------ Parch\n",
      "Parch\n",
      "0    678\n",
      "1    118\n",
      "2     80\n",
      "5      5\n",
      "3      5\n",
      "4      4\n",
      "6      1\n",
      "Name: count, dtype: int64\n",
      "------------------------------ Fare\n",
      "Fare\n",
      "8.0500     43\n",
      "13.0000    42\n",
      "7.8958     38\n",
      "7.7500     34\n",
      "26.0000    31\n",
      "           ..\n",
      "35.0000     1\n",
      "28.5000     1\n",
      "6.2375      1\n",
      "14.0000     1\n",
      "10.5167     1\n",
      "Name: count, Length: 248, dtype: int64\n",
      "------------------------------ Cabin\n",
      "Cabin\n",
      "Z    687\n",
      "C     59\n",
      "B     47\n",
      "D     33\n",
      "E     32\n",
      "A     15\n",
      "F     13\n",
      "G      4\n",
      "T      1\n",
      "Name: count, dtype: int64\n",
      "------------------------------ Embarked\n",
      "Embarked\n",
      "S    646\n",
      "C    168\n",
      "Q     77\n",
      "Name: count, dtype: int64\n"
     ]
    }
   ],
   "source": [
    "for c in dfPreN.columns:\n",
    "    print('-' * 30, c)\n",
    "    print(dfPreN[c].value_counts())"
   ]
  },
  {
   "cell_type": "code",
   "execution_count": 46,
   "id": "0d868df0",
   "metadata": {},
   "outputs": [
    {
     "name": "stdout",
     "output_type": "stream",
     "text": [
      "------------------------------ Survived\n",
      "Survived\n",
      "0    549\n",
      "1    342\n",
      "Name: count, dtype: int64\n",
      "------------------------------ Pclass\n",
      "Pclass\n",
      "3    491\n",
      "1    216\n",
      "2    184\n",
      "Name: count, dtype: int64\n",
      "------------------------------ Sex\n",
      "Sex\n",
      "male      577\n",
      "female    314\n",
      "Name: count, dtype: int64\n",
      "------------------------------ SibSp\n",
      "SibSp\n",
      "0    608\n",
      "1    209\n",
      "2     28\n",
      "4     18\n",
      "3     16\n",
      "8      7\n",
      "5      5\n",
      "Name: count, dtype: int64\n",
      "------------------------------ Parch\n",
      "Parch\n",
      "0    678\n",
      "1    118\n",
      "2     80\n",
      "5      5\n",
      "3      5\n",
      "4      4\n",
      "6      1\n",
      "Name: count, dtype: int64\n",
      "------------------------------ Cabin\n",
      "Cabin\n",
      "Z    687\n",
      "C     59\n",
      "B     47\n",
      "D     33\n",
      "E     32\n",
      "A     15\n",
      "F     13\n",
      "G      4\n",
      "T      1\n",
      "Name: count, dtype: int64\n",
      "------------------------------ Embarked\n",
      "Embarked\n",
      "S    646\n",
      "C    168\n",
      "Q     77\n",
      "Name: count, dtype: int64\n"
     ]
    }
   ],
   "source": [
    "exclude = ['Age', 'Fare']\n",
    "include = [c for c in dfPreN.columns if c not in exclude]\n",
    "for c in include:\n",
    "    print('-' * 30, c)\n",
    "    print(dfPreN[c].value_counts())"
   ]
  },
  {
   "cell_type": "code",
   "execution_count": 47,
   "id": "122418ed",
   "metadata": {},
   "outputs": [
    {
     "ename": "NameError",
     "evalue": "name 'exclude' is not defined",
     "output_type": "error",
     "traceback": [
      "\u001b[1;31m---------------------------------------------------------------------------\u001b[0m",
      "\u001b[1;31mNameError\u001b[0m                                 Traceback (most recent call last)",
      "Cell \u001b[1;32mIn[47], line 1\u001b[0m\n\u001b[1;32m----> 1\u001b[0m \u001b[38;5;28;01mfor\u001b[39;00m c \u001b[38;5;129;01min\u001b[39;00m \u001b[43mexclude\u001b[49m:\n\u001b[0;32m      2\u001b[0m     sns\u001b[38;5;241m.\u001b[39mhistplot(data\u001b[38;5;241m=\u001b[39mdfPreN, x\u001b[38;5;241m=\u001b[39mc, bins\u001b[38;5;241m=\u001b[39m\u001b[38;5;241m10\u001b[39m)\n\u001b[0;32m      3\u001b[0m     plt\u001b[38;5;241m.\u001b[39mshow()\n",
      "\u001b[1;31mNameError\u001b[0m: name 'exclude' is not defined"
     ]
    }
   ],
   "source": [
    "for c in exclude:\n",
    "    sns.histplot(data=dfPreN, x=c, bins=10)\n",
    "    plt.show()"
   ]
  },
  {
   "cell_type": "code",
   "execution_count": 48,
   "id": "0aa8ed3a",
   "metadata": {},
   "outputs": [
    {
     "data": {
      "text/plain": [
       "<seaborn.axisgrid.PairGrid at 0x1cd42b2ee90>"
      ]
     },
     "execution_count": 48,
     "metadata": {},
     "output_type": "execute_result"
    },
    {
     "data": {
      "image/png": "[encoded data removed]",
      "text/plain": [
       "<Figure size 500x500 with 6 Axes>"
      ]
     },
     "metadata": {},
     "output_type": "display_data"
    }
   ],
   "source": [
    "sns.pairplot(data=dfPreN[exclude])"
   ]
  },
  {
   "cell_type": "code",
   "execution_count": 49,
   "id": "cc521937",
   "metadata": {},
   "outputs": [
    {
     "data": {
      "text/plain": [
       "['Survived', 'Pclass', 'Sex', 'SibSp', 'Parch', 'Cabin', 'Embarked']"
      ]
     },
     "execution_count": 49,
     "metadata": {},
     "output_type": "execute_result"
    }
   ],
   "source": [
    "include"
   ]
  },
  {
   "cell_type": "code",
   "execution_count": 48,
   "id": "97582d47",
   "metadata": {
    "scrolled": false
   },
   "outputs": [
    {
     "ename": "NameError",
     "evalue": "name 'include' is not defined",
     "output_type": "error",
     "traceback": [
      "\u001b[1;31m---------------------------------------------------------------------------\u001b[0m",
      "\u001b[1;31mNameError\u001b[0m                                 Traceback (most recent call last)",
      "Cell \u001b[1;32mIn[48], line 1\u001b[0m\n\u001b[1;32m----> 1\u001b[0m \u001b[38;5;28;01mfor\u001b[39;00m c \u001b[38;5;129;01min\u001b[39;00m \u001b[43minclude\u001b[49m:\n\u001b[0;32m      2\u001b[0m     sns\u001b[38;5;241m.\u001b[39mcountplot(data\u001b[38;5;241m=\u001b[39mdfPreN, x\u001b[38;5;241m=\u001b[39mc)\n\u001b[0;32m      3\u001b[0m     plt\u001b[38;5;241m.\u001b[39mshow()\n",
      "\u001b[1;31mNameError\u001b[0m: name 'include' is not defined"
     ]
    }
   ],
   "source": [
    "for c in include:\n",
    "    sns.countplot(data=dfPreN, x=c)\n",
    "    plt.show()"
   ]
  },
  {
   "cell_type": "code",
   "execution_count": 51,
   "id": "dffacdfa",
   "metadata": {
    "scrolled": false
   },
   "outputs": [
    {
     "data": {
      "image/png": "[encoded data removed]",
      "text/plain": [
       "<Figure size 640x480 with 1 Axes>"
      ]
     },
     "metadata": {},
     "output_type": "display_data"
    },
    {
     "data": {
      "image/png": "[encoded data removed]",
      "text/plain": [
       "<Figure size 640x480 with 1 Axes>"
      ]
     },
     "metadata": {},
     "output_type": "display_data"
    },
    {
     "data": {
      "image/png": "[encoded data removed]",
      "text/plain": [
       "<Figure size 640x480 with 1 Axes>"
      ]
     },
     "metadata": {},
     "output_type": "display_data"
    },
    {
     "data": {
      "image/png": "[encoded data removed]",
      "text/plain": [
       "<Figure size 640x480 with 1 Axes>"
      ]
     },
     "metadata": {},
     "output_type": "display_data"
    },
    {
     "data": {
      "image/png": "[encoded data removed]",
      "text/plain": [
       "<Figure size 640x480 with 1 Axes>"
      ]
     },
     "metadata": {},
     "output_type": "display_data"
    },
    {
     "data": {
      "image/png": "[encoded data removed]",
      "text/plain": [
       "<Figure size 640x480 with 1 Axes>"
      ]
     },
     "metadata": {},
     "output_type": "display_data"
    },
    {
     "data": {
      "image/png": "[encoded data removed]",
      "text/plain": [
       "<Figure size 640x480 with 1 Axes>"
      ]
     },
     "metadata": {},
     "output_type": "display_data"
    }
   ],
   "source": [
    "for c in include:\n",
    "    sns.countplot(data=dfPreN, x=c, hue='Survived')\n",
    "    plt.show()"
   ]
  },
  {
   "cell_type": "code",
   "execution_count": 49,
   "id": "69b44558",
   "metadata": {},
   "outputs": [
    {
     "data": {
      "image/png": "[encoded data removed]",
      "text/plain": [
       "<Figure size 640x480 with 1 Axes>"
      ]
     },
     "metadata": {},
     "output_type": "display_data"
    }
   ],
   "source": [
    "sns.countplot(data=dfPreN, x='Survived', hue='Pclass')\n",
    "plt.show()"
   ]
  },
  {
   "cell_type": "code",
   "execution_count": null,
   "id": "8bceac78",
   "metadata": {},
   "outputs": [],
   "source": []
  }
 ],
 "metadata": {
  "kernelspec": {
   "display_name": "Python 3 (ipykernel)",
   "language": "python",
   "name": "python3"
  },
  "language_info": {
   "codemirror_mode": {
    "name": "ipython",
    "version": 3
   },
   "file_extension": ".py",
   "mimetype": "text/x-python",
   "name": "python",
   "nbconvert_exporter": "python",
   "pygments_lexer": "ipython3",
   "version": "3.12.2"
  }
 },
 "nbformat": 4,
 "nbformat_minor": 5
}
