{
 "cells": [
  {
   "cell_type": "markdown",
   "id": "c610696e",
   "metadata": {},
   "source": [
    "# Analysis and Predict for Titanic data (dfCateN)"
   ]
  },
  {
   "cell_type": "markdown",
   "id": "db178d2c",
   "metadata": {},
   "source": [
    "### 처리 순서\n",
    "##### 1. Train/Test 데이터 준비\n",
    "##### 2. 데이터 기본정보 확인\n",
    "##### 3. 데이터 전처리\n",
    "######  &emsp; 3-1. 불필요한 컬럼 삭제\n",
    "######  &emsp; 3-2. NaN 데이터 처리\n",
    "######  &emsp; 3-3. 그외 전처리\n",
    "##### 4. Encoding\n",
    "##### 5. Scaling\n",
    "##### 6. train_test_split()\n",
    "##### 7. 모델 학습/평가\n",
    "##### 8. 실제 예측"
   ]
  },
  {
   "cell_type": "code",
   "execution_count": null,
   "id": "dfd8b3ba",
   "metadata": {},
   "outputs": [],
   "source": []
  },
  {
   "cell_type": "markdown",
   "id": "619ebe6c",
   "metadata": {},
   "source": [
    "##### import"
   ]
  },
  {
   "cell_type": "code",
   "execution_count": 1,
   "id": "157f0b75",
   "metadata": {},
   "outputs": [],
   "source": [
    "import numpy as np\n",
    "import pandas as pd\n",
    "import matplotlib.pyplot as plt\n",
    "import seaborn as sns"
   ]
  },
  {
   "cell_type": "markdown",
   "id": "9fce8d4d",
   "metadata": {},
   "source": [
    "### 1. Train/Test 데이터 준비"
   ]
  },
  {
   "cell_type": "code",
   "execution_count": 2,
   "id": "72d4363b",
   "metadata": {},
   "outputs": [
    {
     "data": {
      "text/plain": [
       "WindowsPath('F:/InfLecture/AiWeb/StDashboard/jnotebook')"
      ]
     },
     "execution_count": 2,
     "metadata": {},
     "output_type": "execute_result"
    }
   ],
   "source": [
    "from pathlib import Path\n",
    "Path.cwd()"
   ]
  },
  {
   "cell_type": "code",
   "execution_count": 3,
   "id": "73d2e88a",
   "metadata": {},
   "outputs": [],
   "source": [
    "TRAIN_DATA = Path.cwd().parent / 'DATA/titanic_train.csv'\n",
    "TEST_DATA = Path.cwd().parent / 'DATA/titanic_test.csv'"
   ]
  },
  {
   "cell_type": "code",
   "execution_count": 4,
   "id": "af49af77",
   "metadata": {},
   "outputs": [
    {
     "data": {
      "text/plain": [
       "(891, 12)"
      ]
     },
     "execution_count": 4,
     "metadata": {},
     "output_type": "execute_result"
    }
   ],
   "source": [
    "dfTrain = pd.read_csv(TRAIN_DATA)\n",
    "dfTrain.shape"
   ]
  },
  {
   "cell_type": "code",
   "execution_count": 5,
   "id": "716bd1a5",
   "metadata": {},
   "outputs": [
    {
     "data": {
      "text/plain": [
       "(418, 11)"
      ]
     },
     "execution_count": 5,
     "metadata": {},
     "output_type": "execute_result"
    }
   ],
   "source": [
    "dfTest = pd.read_csv(TEST_DATA)\n",
    "dfTest.shape"
   ]
  },
  {
   "cell_type": "markdown",
   "id": "32aae875",
   "metadata": {},
   "source": [
    "### 2. 데이터 기본 정보 확인"
   ]
  },
  {
   "cell_type": "markdown",
   "id": "e7c2b67d",
   "metadata": {},
   "source": [
    "##### 데이터의 내용을 확인한다."
   ]
  },
  {
   "cell_type": "code",
   "execution_count": 6,
   "id": "8f5a09f3",
   "metadata": {},
   "outputs": [
    {
     "data": {
      "text/html": [
       "<div>\n",
       "<style scoped>\n",
       "    .dataframe tbody tr th:only-of-type {\n",
       "        vertical-align: middle;\n",
       "    }\n",
       "\n",
       "    .dataframe tbody tr th {\n",
       "        vertical-align: top;\n",
       "    }\n",
       "\n",
       "    .dataframe thead th {\n",
       "        text-align: right;\n",
       "    }\n",
       "</style>\n",
       "<table border=\"1\" class=\"dataframe\">\n",
       "  <thead>\n",
       "    <tr style=\"text-align: right;\">\n",
       "      <th></th>\n",
       "      <th>PassengerId</th>\n",
       "      <th>Survived</th>\n",
       "      <th>Pclass</th>\n",
       "      <th>Name</th>\n",
       "      <th>Sex</th>\n",
       "      <th>Age</th>\n",
       "      <th>SibSp</th>\n",
       "      <th>Parch</th>\n",
       "      <th>Ticket</th>\n",
       "      <th>Fare</th>\n",
       "      <th>Cabin</th>\n",
       "      <th>Embarked</th>\n",
       "    </tr>\n",
       "  </thead>\n",
       "  <tbody>\n",
       "    <tr>\n",
       "      <th>0</th>\n",
       "      <td>1</td>\n",
       "      <td>0</td>\n",
       "      <td>3</td>\n",
       "      <td>Braund, Mr. Owen Harris</td>\n",
       "      <td>male</td>\n",
       "      <td>22.0</td>\n",
       "      <td>1</td>\n",
       "      <td>0</td>\n",
       "      <td>A/5 21171</td>\n",
       "      <td>7.2500</td>\n",
       "      <td>NaN</td>\n",
       "      <td>S</td>\n",
       "    </tr>\n",
       "    <tr>\n",
       "      <th>1</th>\n",
       "      <td>2</td>\n",
       "      <td>1</td>\n",
       "      <td>1</td>\n",
       "      <td>Cumings, Mrs. John Bradley (Florence Briggs Th...</td>\n",
       "      <td>female</td>\n",
       "      <td>38.0</td>\n",
       "      <td>1</td>\n",
       "      <td>0</td>\n",
       "      <td>PC 17599</td>\n",
       "      <td>71.2833</td>\n",
       "      <td>C85</td>\n",
       "      <td>C</td>\n",
       "    </tr>\n",
       "    <tr>\n",
       "      <th>2</th>\n",
       "      <td>3</td>\n",
       "      <td>1</td>\n",
       "      <td>3</td>\n",
       "      <td>Heikkinen, Miss. Laina</td>\n",
       "      <td>female</td>\n",
       "      <td>26.0</td>\n",
       "      <td>0</td>\n",
       "      <td>0</td>\n",
       "      <td>STON/O2. 3101282</td>\n",
       "      <td>7.9250</td>\n",
       "      <td>NaN</td>\n",
       "      <td>S</td>\n",
       "    </tr>\n",
       "    <tr>\n",
       "      <th>3</th>\n",
       "      <td>4</td>\n",
       "      <td>1</td>\n",
       "      <td>1</td>\n",
       "      <td>Futrelle, Mrs. Jacques Heath (Lily May Peel)</td>\n",
       "      <td>female</td>\n",
       "      <td>35.0</td>\n",
       "      <td>1</td>\n",
       "      <td>0</td>\n",
       "      <td>113803</td>\n",
       "      <td>53.1000</td>\n",
       "      <td>C123</td>\n",
       "      <td>S</td>\n",
       "    </tr>\n",
       "    <tr>\n",
       "      <th>4</th>\n",
       "      <td>5</td>\n",
       "      <td>0</td>\n",
       "      <td>3</td>\n",
       "      <td>Allen, Mr. William Henry</td>\n",
       "      <td>male</td>\n",
       "      <td>35.0</td>\n",
       "      <td>0</td>\n",
       "      <td>0</td>\n",
       "      <td>373450</td>\n",
       "      <td>8.0500</td>\n",
       "      <td>NaN</td>\n",
       "      <td>S</td>\n",
       "    </tr>\n",
       "  </tbody>\n",
       "</table>\n",
       "</div>"
      ],
      "text/plain": [
       "   PassengerId  Survived  Pclass   \n",
       "0            1         0       3  \\\n",
       "1            2         1       1   \n",
       "2            3         1       3   \n",
       "3            4         1       1   \n",
       "4            5         0       3   \n",
       "\n",
       "                                                Name     Sex   Age  SibSp   \n",
       "0                            Braund, Mr. Owen Harris    male  22.0      1  \\\n",
       "1  Cumings, Mrs. John Bradley (Florence Briggs Th...  female  38.0      1   \n",
       "2                             Heikkinen, Miss. Laina  female  26.0      0   \n",
       "3       Futrelle, Mrs. Jacques Heath (Lily May Peel)  female  35.0      1   \n",
       "4                           Allen, Mr. William Henry    male  35.0      0   \n",
       "\n",
       "   Parch            Ticket     Fare Cabin Embarked  \n",
       "0      0         A/5 21171   7.2500   NaN        S  \n",
       "1      0          PC 17599  71.2833   C85        C  \n",
       "2      0  STON/O2. 3101282   7.9250   NaN        S  \n",
       "3      0            113803  53.1000  C123        S  \n",
       "4      0            373450   8.0500   NaN        S  "
      ]
     },
     "execution_count": 6,
     "metadata": {},
     "output_type": "execute_result"
    }
   ],
   "source": [
    "dfTrain.head()"
   ]
  },
  {
   "cell_type": "code",
   "execution_count": 7,
   "id": "81d142b0",
   "metadata": {},
   "outputs": [
    {
     "data": {
      "text/html": [
       "<div>\n",
       "<style scoped>\n",
       "    .dataframe tbody tr th:only-of-type {\n",
       "        vertical-align: middle;\n",
       "    }\n",
       "\n",
       "    .dataframe tbody tr th {\n",
       "        vertical-align: top;\n",
       "    }\n",
       "\n",
       "    .dataframe thead th {\n",
       "        text-align: right;\n",
       "    }\n",
       "</style>\n",
       "<table border=\"1\" class=\"dataframe\">\n",
       "  <thead>\n",
       "    <tr style=\"text-align: right;\">\n",
       "      <th></th>\n",
       "      <th>PassengerId</th>\n",
       "      <th>Pclass</th>\n",
       "      <th>Name</th>\n",
       "      <th>Sex</th>\n",
       "      <th>Age</th>\n",
       "      <th>SibSp</th>\n",
       "      <th>Parch</th>\n",
       "      <th>Ticket</th>\n",
       "      <th>Fare</th>\n",
       "      <th>Cabin</th>\n",
       "      <th>Embarked</th>\n",
       "    </tr>\n",
       "  </thead>\n",
       "  <tbody>\n",
       "    <tr>\n",
       "      <th>0</th>\n",
       "      <td>892</td>\n",
       "      <td>3</td>\n",
       "      <td>Kelly, Mr. James</td>\n",
       "      <td>male</td>\n",
       "      <td>34.5</td>\n",
       "      <td>0</td>\n",
       "      <td>0</td>\n",
       "      <td>330911</td>\n",
       "      <td>7.8292</td>\n",
       "      <td>NaN</td>\n",
       "      <td>Q</td>\n",
       "    </tr>\n",
       "    <tr>\n",
       "      <th>1</th>\n",
       "      <td>893</td>\n",
       "      <td>3</td>\n",
       "      <td>Wilkes, Mrs. James (Ellen Needs)</td>\n",
       "      <td>female</td>\n",
       "      <td>47.0</td>\n",
       "      <td>1</td>\n",
       "      <td>0</td>\n",
       "      <td>363272</td>\n",
       "      <td>7.0000</td>\n",
       "      <td>NaN</td>\n",
       "      <td>S</td>\n",
       "    </tr>\n",
       "    <tr>\n",
       "      <th>2</th>\n",
       "      <td>894</td>\n",
       "      <td>2</td>\n",
       "      <td>Myles, Mr. Thomas Francis</td>\n",
       "      <td>male</td>\n",
       "      <td>62.0</td>\n",
       "      <td>0</td>\n",
       "      <td>0</td>\n",
       "      <td>240276</td>\n",
       "      <td>9.6875</td>\n",
       "      <td>NaN</td>\n",
       "      <td>Q</td>\n",
       "    </tr>\n",
       "    <tr>\n",
       "      <th>3</th>\n",
       "      <td>895</td>\n",
       "      <td>3</td>\n",
       "      <td>Wirz, Mr. Albert</td>\n",
       "      <td>male</td>\n",
       "      <td>27.0</td>\n",
       "      <td>0</td>\n",
       "      <td>0</td>\n",
       "      <td>315154</td>\n",
       "      <td>8.6625</td>\n",
       "      <td>NaN</td>\n",
       "      <td>S</td>\n",
       "    </tr>\n",
       "    <tr>\n",
       "      <th>4</th>\n",
       "      <td>896</td>\n",
       "      <td>3</td>\n",
       "      <td>Hirvonen, Mrs. Alexander (Helga E Lindqvist)</td>\n",
       "      <td>female</td>\n",
       "      <td>22.0</td>\n",
       "      <td>1</td>\n",
       "      <td>1</td>\n",
       "      <td>3101298</td>\n",
       "      <td>12.2875</td>\n",
       "      <td>NaN</td>\n",
       "      <td>S</td>\n",
       "    </tr>\n",
       "  </tbody>\n",
       "</table>\n",
       "</div>"
      ],
      "text/plain": [
       "   PassengerId  Pclass                                          Name     Sex   \n",
       "0          892       3                              Kelly, Mr. James    male  \\\n",
       "1          893       3              Wilkes, Mrs. James (Ellen Needs)  female   \n",
       "2          894       2                     Myles, Mr. Thomas Francis    male   \n",
       "3          895       3                              Wirz, Mr. Albert    male   \n",
       "4          896       3  Hirvonen, Mrs. Alexander (Helga E Lindqvist)  female   \n",
       "\n",
       "    Age  SibSp  Parch   Ticket     Fare Cabin Embarked  \n",
       "0  34.5      0      0   330911   7.8292   NaN        Q  \n",
       "1  47.0      1      0   363272   7.0000   NaN        S  \n",
       "2  62.0      0      0   240276   9.6875   NaN        Q  \n",
       "3  27.0      0      0   315154   8.6625   NaN        S  \n",
       "4  22.0      1      1  3101298  12.2875   NaN        S  "
      ]
     },
     "execution_count": 7,
     "metadata": {},
     "output_type": "execute_result"
    }
   ],
   "source": [
    "dfTest.head()"
   ]
  },
  {
   "cell_type": "markdown",
   "id": "8984bce8",
   "metadata": {},
   "source": [
    "##### Null 데이터 확인한다."
   ]
  },
  {
   "cell_type": "markdown",
   "id": "800a35fb",
   "metadata": {},
   "source": [
    "##### np.nan 은 float type, 만일 있으면 int 컬럼이 --> float 컬럼이 된다."
   ]
  },
  {
   "cell_type": "code",
   "execution_count": 8,
   "id": "4f264f31",
   "metadata": {},
   "outputs": [
    {
     "name": "stdout",
     "output_type": "stream",
     "text": [
      "<class 'pandas.core.frame.DataFrame'>\n",
      "RangeIndex: 891 entries, 0 to 890\n",
      "Data columns (total 12 columns):\n",
      " #   Column       Non-Null Count  Dtype  \n",
      "---  ------       --------------  -----  \n",
      " 0   PassengerId  891 non-null    int64  \n",
      " 1   Survived     891 non-null    int64  \n",
      " 2   Pclass       891 non-null    int64  \n",
      " 3   Name         891 non-null    object \n",
      " 4   Sex          891 non-null    object \n",
      " 5   Age          714 non-null    float64\n",
      " 6   SibSp        891 non-null    int64  \n",
      " 7   Parch        891 non-null    int64  \n",
      " 8   Ticket       891 non-null    object \n",
      " 9   Fare         891 non-null    float64\n",
      " 10  Cabin        204 non-null    object \n",
      " 11  Embarked     889 non-null    object \n",
      "dtypes: float64(2), int64(5), object(5)\n",
      "memory usage: 83.7+ KB\n"
     ]
    }
   ],
   "source": [
    "dfTrain.info()"
   ]
  },
  {
   "cell_type": "code",
   "execution_count": 9,
   "id": "79b30371",
   "metadata": {},
   "outputs": [
    {
     "name": "stdout",
     "output_type": "stream",
     "text": [
      "<class 'pandas.core.frame.DataFrame'>\n",
      "RangeIndex: 418 entries, 0 to 417\n",
      "Data columns (total 11 columns):\n",
      " #   Column       Non-Null Count  Dtype  \n",
      "---  ------       --------------  -----  \n",
      " 0   PassengerId  418 non-null    int64  \n",
      " 1   Pclass       418 non-null    int64  \n",
      " 2   Name         418 non-null    object \n",
      " 3   Sex          418 non-null    object \n",
      " 4   Age          332 non-null    float64\n",
      " 5   SibSp        418 non-null    int64  \n",
      " 6   Parch        418 non-null    int64  \n",
      " 7   Ticket       418 non-null    object \n",
      " 8   Fare         417 non-null    float64\n",
      " 9   Cabin        91 non-null     object \n",
      " 10  Embarked     418 non-null    object \n",
      "dtypes: float64(2), int64(4), object(5)\n",
      "memory usage: 36.1+ KB\n"
     ]
    }
   ],
   "source": [
    "dfTest.info()"
   ]
  },
  {
   "cell_type": "markdown",
   "id": "5c7b7c26",
   "metadata": {},
   "source": [
    "##### describe() 는 number type 만 보여줌."
   ]
  },
  {
   "cell_type": "code",
   "execution_count": 10,
   "id": "fec6fc02",
   "metadata": {},
   "outputs": [
    {
     "data": {
      "text/html": [
       "<div>\n",
       "<style scoped>\n",
       "    .dataframe tbody tr th:only-of-type {\n",
       "        vertical-align: middle;\n",
       "    }\n",
       "\n",
       "    .dataframe tbody tr th {\n",
       "        vertical-align: top;\n",
       "    }\n",
       "\n",
       "    .dataframe thead th {\n",
       "        text-align: right;\n",
       "    }\n",
       "</style>\n",
       "<table border=\"1\" class=\"dataframe\">\n",
       "  <thead>\n",
       "    <tr style=\"text-align: right;\">\n",
       "      <th></th>\n",
       "      <th>PassengerId</th>\n",
       "      <th>Survived</th>\n",
       "      <th>Pclass</th>\n",
       "      <th>Age</th>\n",
       "      <th>SibSp</th>\n",
       "      <th>Parch</th>\n",
       "      <th>Fare</th>\n",
       "    </tr>\n",
       "  </thead>\n",
       "  <tbody>\n",
       "    <tr>\n",
       "      <th>count</th>\n",
       "      <td>891.000000</td>\n",
       "      <td>891.000000</td>\n",
       "      <td>891.000000</td>\n",
       "      <td>714.000000</td>\n",
       "      <td>891.000000</td>\n",
       "      <td>891.000000</td>\n",
       "      <td>891.000000</td>\n",
       "    </tr>\n",
       "    <tr>\n",
       "      <th>mean</th>\n",
       "      <td>446.000000</td>\n",
       "      <td>0.383838</td>\n",
       "      <td>2.308642</td>\n",
       "      <td>29.699118</td>\n",
       "      <td>0.523008</td>\n",
       "      <td>0.381594</td>\n",
       "      <td>32.204208</td>\n",
       "    </tr>\n",
       "    <tr>\n",
       "      <th>std</th>\n",
       "      <td>257.353842</td>\n",
       "      <td>0.486592</td>\n",
       "      <td>0.836071</td>\n",
       "      <td>14.526497</td>\n",
       "      <td>1.102743</td>\n",
       "      <td>0.806057</td>\n",
       "      <td>49.693429</td>\n",
       "    </tr>\n",
       "    <tr>\n",
       "      <th>min</th>\n",
       "      <td>1.000000</td>\n",
       "      <td>0.000000</td>\n",
       "      <td>1.000000</td>\n",
       "      <td>0.420000</td>\n",
       "      <td>0.000000</td>\n",
       "      <td>0.000000</td>\n",
       "      <td>0.000000</td>\n",
       "    </tr>\n",
       "    <tr>\n",
       "      <th>25%</th>\n",
       "      <td>223.500000</td>\n",
       "      <td>0.000000</td>\n",
       "      <td>2.000000</td>\n",
       "      <td>20.125000</td>\n",
       "      <td>0.000000</td>\n",
       "      <td>0.000000</td>\n",
       "      <td>7.910400</td>\n",
       "    </tr>\n",
       "    <tr>\n",
       "      <th>50%</th>\n",
       "      <td>446.000000</td>\n",
       "      <td>0.000000</td>\n",
       "      <td>3.000000</td>\n",
       "      <td>28.000000</td>\n",
       "      <td>0.000000</td>\n",
       "      <td>0.000000</td>\n",
       "      <td>14.454200</td>\n",
       "    </tr>\n",
       "    <tr>\n",
       "      <th>75%</th>\n",
       "      <td>668.500000</td>\n",
       "      <td>1.000000</td>\n",
       "      <td>3.000000</td>\n",
       "      <td>38.000000</td>\n",
       "      <td>1.000000</td>\n",
       "      <td>0.000000</td>\n",
       "      <td>31.000000</td>\n",
       "    </tr>\n",
       "    <tr>\n",
       "      <th>max</th>\n",
       "      <td>891.000000</td>\n",
       "      <td>1.000000</td>\n",
       "      <td>3.000000</td>\n",
       "      <td>80.000000</td>\n",
       "      <td>8.000000</td>\n",
       "      <td>6.000000</td>\n",
       "      <td>512.329200</td>\n",
       "    </tr>\n",
       "  </tbody>\n",
       "</table>\n",
       "</div>"
      ],
      "text/plain": [
       "       PassengerId    Survived      Pclass         Age       SibSp   \n",
       "count   891.000000  891.000000  891.000000  714.000000  891.000000  \\\n",
       "mean    446.000000    0.383838    2.308642   29.699118    0.523008   \n",
       "std     257.353842    0.486592    0.836071   14.526497    1.102743   \n",
       "min       1.000000    0.000000    1.000000    0.420000    0.000000   \n",
       "25%     223.500000    0.000000    2.000000   20.125000    0.000000   \n",
       "50%     446.000000    0.000000    3.000000   28.000000    0.000000   \n",
       "75%     668.500000    1.000000    3.000000   38.000000    1.000000   \n",
       "max     891.000000    1.000000    3.000000   80.000000    8.000000   \n",
       "\n",
       "            Parch        Fare  \n",
       "count  891.000000  891.000000  \n",
       "mean     0.381594   32.204208  \n",
       "std      0.806057   49.693429  \n",
       "min      0.000000    0.000000  \n",
       "25%      0.000000    7.910400  \n",
       "50%      0.000000   14.454200  \n",
       "75%      0.000000   31.000000  \n",
       "max      6.000000  512.329200  "
      ]
     },
     "execution_count": 10,
     "metadata": {},
     "output_type": "execute_result"
    }
   ],
   "source": [
    "dfTrain.describe()"
   ]
  },
  {
   "cell_type": "code",
   "execution_count": 11,
   "id": "0431e3de",
   "metadata": {},
   "outputs": [
    {
     "data": {
      "text/html": [
       "<div>\n",
       "<style scoped>\n",
       "    .dataframe tbody tr th:only-of-type {\n",
       "        vertical-align: middle;\n",
       "    }\n",
       "\n",
       "    .dataframe tbody tr th {\n",
       "        vertical-align: top;\n",
       "    }\n",
       "\n",
       "    .dataframe thead th {\n",
       "        text-align: right;\n",
       "    }\n",
       "</style>\n",
       "<table border=\"1\" class=\"dataframe\">\n",
       "  <thead>\n",
       "    <tr style=\"text-align: right;\">\n",
       "      <th></th>\n",
       "      <th>PassengerId</th>\n",
       "      <th>Pclass</th>\n",
       "      <th>Age</th>\n",
       "      <th>SibSp</th>\n",
       "      <th>Parch</th>\n",
       "      <th>Fare</th>\n",
       "    </tr>\n",
       "  </thead>\n",
       "  <tbody>\n",
       "    <tr>\n",
       "      <th>count</th>\n",
       "      <td>418.000000</td>\n",
       "      <td>418.000000</td>\n",
       "      <td>332.000000</td>\n",
       "      <td>418.000000</td>\n",
       "      <td>418.000000</td>\n",
       "      <td>417.000000</td>\n",
       "    </tr>\n",
       "    <tr>\n",
       "      <th>mean</th>\n",
       "      <td>1100.500000</td>\n",
       "      <td>2.265550</td>\n",
       "      <td>30.272590</td>\n",
       "      <td>0.447368</td>\n",
       "      <td>0.392344</td>\n",
       "      <td>35.627188</td>\n",
       "    </tr>\n",
       "    <tr>\n",
       "      <th>std</th>\n",
       "      <td>120.810458</td>\n",
       "      <td>0.841838</td>\n",
       "      <td>14.181209</td>\n",
       "      <td>0.896760</td>\n",
       "      <td>0.981429</td>\n",
       "      <td>55.907576</td>\n",
       "    </tr>\n",
       "    <tr>\n",
       "      <th>min</th>\n",
       "      <td>892.000000</td>\n",
       "      <td>1.000000</td>\n",
       "      <td>0.170000</td>\n",
       "      <td>0.000000</td>\n",
       "      <td>0.000000</td>\n",
       "      <td>0.000000</td>\n",
       "    </tr>\n",
       "    <tr>\n",
       "      <th>25%</th>\n",
       "      <td>996.250000</td>\n",
       "      <td>1.000000</td>\n",
       "      <td>21.000000</td>\n",
       "      <td>0.000000</td>\n",
       "      <td>0.000000</td>\n",
       "      <td>7.895800</td>\n",
       "    </tr>\n",
       "    <tr>\n",
       "      <th>50%</th>\n",
       "      <td>1100.500000</td>\n",
       "      <td>3.000000</td>\n",
       "      <td>27.000000</td>\n",
       "      <td>0.000000</td>\n",
       "      <td>0.000000</td>\n",
       "      <td>14.454200</td>\n",
       "    </tr>\n",
       "    <tr>\n",
       "      <th>75%</th>\n",
       "      <td>1204.750000</td>\n",
       "      <td>3.000000</td>\n",
       "      <td>39.000000</td>\n",
       "      <td>1.000000</td>\n",
       "      <td>0.000000</td>\n",
       "      <td>31.500000</td>\n",
       "    </tr>\n",
       "    <tr>\n",
       "      <th>max</th>\n",
       "      <td>1309.000000</td>\n",
       "      <td>3.000000</td>\n",
       "      <td>76.000000</td>\n",
       "      <td>8.000000</td>\n",
       "      <td>9.000000</td>\n",
       "      <td>512.329200</td>\n",
       "    </tr>\n",
       "  </tbody>\n",
       "</table>\n",
       "</div>"
      ],
      "text/plain": [
       "       PassengerId      Pclass         Age       SibSp       Parch        Fare\n",
       "count   418.000000  418.000000  332.000000  418.000000  418.000000  417.000000\n",
       "mean   1100.500000    2.265550   30.272590    0.447368    0.392344   35.627188\n",
       "std     120.810458    0.841838   14.181209    0.896760    0.981429   55.907576\n",
       "min     892.000000    1.000000    0.170000    0.000000    0.000000    0.000000\n",
       "25%     996.250000    1.000000   21.000000    0.000000    0.000000    7.895800\n",
       "50%    1100.500000    3.000000   27.000000    0.000000    0.000000   14.454200\n",
       "75%    1204.750000    3.000000   39.000000    1.000000    0.000000   31.500000\n",
       "max    1309.000000    3.000000   76.000000    8.000000    9.000000  512.329200"
      ]
     },
     "execution_count": 11,
     "metadata": {},
     "output_type": "execute_result"
    }
   ],
   "source": [
    "dfTest.describe()"
   ]
  },
  {
   "cell_type": "markdown",
   "id": "1e7aebc3",
   "metadata": {},
   "source": [
    "### 3. 데이터 전처리"
   ]
  },
  {
   "cell_type": "markdown",
   "id": "32dde939",
   "metadata": {},
   "source": [
    "#####  AI 알고리즘을 실행하기 전에, 데이터를 목적에 맞게 변환한다.\n",
    "##### EDA (Exploratory Data Analysis), 탐색적 데이터 분석을 통해, 데이터 특성을 파악한다.\n",
    "##### --------------------------------------------------------------------------------------------\n",
    "##### EDA (Exploratory Data Analysis), 탐색적 데이터 분석\n",
    "###### &emsp; - 데이터를 다양한 각도에서 관찰하고 이해하는 과정\n",
    "###### &emsp; - 표, 그래프, 통계값 등 다양한 지식 등을 활용, (예를 들어) 이상치, 속성간의 관계, 주요한 속성 등을 찾아낸다.\n",
    "###### &emsp; *. 이 과정을 확장하여, 데이터 분석을 통해 [데이터 인사이트]를 발굴할 수도 있다."
   ]
  },
  {
   "cell_type": "code",
   "execution_count": null,
   "id": "338e83e7",
   "metadata": {},
   "outputs": [],
   "source": []
  },
  {
   "cell_type": "markdown",
   "id": "af22c12e",
   "metadata": {},
   "source": [
    "##### EDA (매우 다양하게 진행할 수 있다)"
   ]
  },
  {
   "cell_type": "code",
   "execution_count": 12,
   "id": "379dcae5",
   "metadata": {},
   "outputs": [
    {
     "data": {
      "text/plain": [
       "Survived\n",
       "0    549\n",
       "1    342\n",
       "Name: count, dtype: int64"
      ]
     },
     "execution_count": 12,
     "metadata": {},
     "output_type": "execute_result"
    }
   ],
   "source": [
    "dfTrain.Survived.value_counts()"
   ]
  },
  {
   "cell_type": "code",
   "execution_count": 13,
   "id": "472017f0",
   "metadata": {},
   "outputs": [
    {
     "data": {
      "text/plain": [
       "<Axes: xlabel='Survived', ylabel='count'>"
      ]
     },
     "execution_count": 13,
     "metadata": {},
     "output_type": "execute_result"
    },
    {
     "data": {
      "image/png": "[encoded data removed]",
      "text/plain": [
       "<Figure size 640x480 with 1 Axes>"
      ]
     },
     "metadata": {},
     "output_type": "display_data"
    }
   ],
   "source": [
    "sns.countplot(data=dfTrain, x='Survived', hue='Sex')"
   ]
  },
  {
   "cell_type": "markdown",
   "id": "05ba15b2",
   "metadata": {},
   "source": [
    "### 3-1. 불필요한 컬럼 삭제"
   ]
  },
  {
   "cell_type": "markdown",
   "id": "e96148fb",
   "metadata": {},
   "source": [
    "##### -. target 컬럼에 영향을 주는 feature(컬럼) 를 선택 --> feature selection 은 중요한 분야임\n",
    "##### -. 여기서는 직관적으로 불필요한 컬럼을 선택함"
   ]
  },
  {
   "cell_type": "code",
   "execution_count": null,
   "id": "d902591b",
   "metadata": {},
   "outputs": [],
   "source": []
  },
  {
   "cell_type": "markdown",
   "id": "6273916b",
   "metadata": {},
   "source": [
    "##### 함수로 만들면, train 및 test 데이터에 동일하게 적용할 수 있다."
   ]
  },
  {
   "cell_type": "code",
   "execution_count": 14,
   "id": "973ebd51",
   "metadata": {},
   "outputs": [],
   "source": [
    "# 불필요한 컬럼 삭제\n",
    "def del_cols(df):\n",
    "    df = df.copy()\n",
    "    cols = ['PassengerId', 'Name', 'Ticket']\n",
    "    df = df.drop(cols, axis=1)\n",
    "    print(f\"del_cols(): {df.shape=}\")\n",
    "    return df"
   ]
  },
  {
   "cell_type": "code",
   "execution_count": 15,
   "id": "de957bb6",
   "metadata": {},
   "outputs": [
    {
     "name": "stdout",
     "output_type": "stream",
     "text": [
      "del_cols(): df.shape=(891, 9)\n"
     ]
    },
    {
     "data": {
      "text/plain": [
       "(891, 9)"
      ]
     },
     "execution_count": 15,
     "metadata": {},
     "output_type": "execute_result"
    }
   ],
   "source": [
    "dfDrop = del_cols(dfTrain)\n",
    "dfDrop.shape"
   ]
  },
  {
   "cell_type": "markdown",
   "id": "9152111c",
   "metadata": {},
   "source": [
    "### 3-2. NaN 처리"
   ]
  },
  {
   "cell_type": "markdown",
   "id": "530ef7be",
   "metadata": {},
   "source": [
    "##### -. NaN 값이 많은 컬럼은 삭제한다.\n",
    "##### -. 아니면, NaN 을 다른 값으로 바꾼다. (평균값, 중간값, 최빈값 등)"
   ]
  },
  {
   "cell_type": "code",
   "execution_count": 16,
   "id": "5da041b1",
   "metadata": {},
   "outputs": [
    {
     "name": "stdout",
     "output_type": "stream",
     "text": [
      "------------------------------ Age\n",
      "Age\n",
      "24.00    30\n",
      "22.00    27\n",
      "18.00    26\n",
      "19.00    25\n",
      "28.00    25\n",
      "         ..\n",
      "36.50     1\n",
      "55.50     1\n",
      "0.92      1\n",
      "23.50     1\n",
      "74.00     1\n",
      "Name: count, Length: 88, dtype: int64\n",
      "------------------------------ Fare\n",
      "Fare\n",
      "8.0500     43\n",
      "13.0000    42\n",
      "7.8958     38\n",
      "7.7500     34\n",
      "26.0000    31\n",
      "           ..\n",
      "35.0000     1\n",
      "28.5000     1\n",
      "6.2375      1\n",
      "14.0000     1\n",
      "10.5167     1\n",
      "Name: count, Length: 248, dtype: int64\n",
      "------------------------------ Cabin\n",
      "Cabin\n",
      "B96 B98        4\n",
      "G6             4\n",
      "C23 C25 C27    4\n",
      "C22 C26        3\n",
      "F33            3\n",
      "              ..\n",
      "E34            1\n",
      "C7             1\n",
      "C54            1\n",
      "E36            1\n",
      "C148           1\n",
      "Name: count, Length: 147, dtype: int64\n",
      "------------------------------ Embarked\n",
      "Embarked\n",
      "S    644\n",
      "C    168\n",
      "Q     77\n",
      "Name: count, dtype: int64\n"
     ]
    }
   ],
   "source": [
    "cols = ['Age', 'Fare', 'Cabin', 'Embarked']\n",
    "for c in cols:\n",
    "    print('-' * 30, c)\n",
    "    print(dfDrop[c].value_counts())"
   ]
  },
  {
   "cell_type": "code",
   "execution_count": 17,
   "id": "0c9ac9d2",
   "metadata": {},
   "outputs": [
    {
     "data": {
      "text/plain": [
       "0    S\n",
       "Name: Embarked, dtype: object"
      ]
     },
     "execution_count": 17,
     "metadata": {},
     "output_type": "execute_result"
    }
   ],
   "source": [
    "dfDrop.Embarked.mode()"
   ]
  },
  {
   "cell_type": "code",
   "execution_count": 18,
   "id": "98e7aefb",
   "metadata": {},
   "outputs": [
    {
     "data": {
      "text/plain": [
       "29.69911764705882"
      ]
     },
     "execution_count": 18,
     "metadata": {},
     "output_type": "execute_result"
    }
   ],
   "source": [
    "dfDrop.Age.mean()"
   ]
  },
  {
   "cell_type": "code",
   "execution_count": 19,
   "id": "ed05e025",
   "metadata": {},
   "outputs": [
    {
     "data": {
      "text/plain": [
       "32.204207968574636"
      ]
     },
     "execution_count": 19,
     "metadata": {},
     "output_type": "execute_result"
    }
   ],
   "source": [
    "dfDrop.Fare.mean()"
   ]
  },
  {
   "cell_type": "markdown",
   "id": "e085bedd",
   "metadata": {},
   "source": [
    "##### Cabin 컬럼은 나중에 첫 글자만 추출할 것이므로, NaN -> Z 로 치환한다. (현 데이터에 Z 사용 안하므로)"
   ]
  },
  {
   "cell_type": "code",
   "execution_count": null,
   "id": "b351c6e1",
   "metadata": {},
   "outputs": [],
   "source": []
  },
  {
   "cell_type": "code",
   "execution_count": 20,
   "id": "33bf45d4",
   "metadata": {},
   "outputs": [],
   "source": [
    "# null 처리\n",
    "def na_handle(df):\n",
    "    df = df.copy()\n",
    "    df['Age'] = df.Age.fillna(df.Age.mean()).astype('int')\n",
    "    df['Cabin'] = df.Cabin.fillna('Z')\n",
    "    df['Embarked'] = df.Embarked.fillna(df.Embarked.mode().values[0])\n",
    "    df['Fare'] = df.Fare.fillna(df.Fare.mean())    \n",
    "    print(f\"na_handle(): {df.shape=}\")\n",
    "    return df"
   ]
  },
  {
   "cell_type": "code",
   "execution_count": 21,
   "id": "082b5b53",
   "metadata": {},
   "outputs": [
    {
     "name": "stdout",
     "output_type": "stream",
     "text": [
      "na_handle(): df.shape=(891, 9)\n"
     ]
    },
    {
     "data": {
      "text/plain": [
       "(891, 9)"
      ]
     },
     "execution_count": 21,
     "metadata": {},
     "output_type": "execute_result"
    }
   ],
   "source": [
    "dfNa = na_handle(dfDrop)\n",
    "dfNa.shape"
   ]
  },
  {
   "cell_type": "markdown",
   "id": "9beb77cf",
   "metadata": {},
   "source": [
    "### 3-3. 그 외 처리"
   ]
  },
  {
   "cell_type": "markdown",
   "id": "7c3da0e0",
   "metadata": {},
   "source": [
    "##### -. Cabin 컬럼의 첫 글자는 의미가 있다."
   ]
  },
  {
   "cell_type": "code",
   "execution_count": 22,
   "id": "66988c42",
   "metadata": {},
   "outputs": [],
   "source": [
    "# 그 외 처리\n",
    "def pre_etc(df):\n",
    "    df = df.copy()\n",
    "    df['Cabin'] = df.Cabin.str[0]\n",
    "    print(f\"pre_etc(): {df.shape=}\")\n",
    "    return df"
   ]
  },
  {
   "cell_type": "code",
   "execution_count": 23,
   "id": "66e41b8b",
   "metadata": {},
   "outputs": [
    {
     "name": "stdout",
     "output_type": "stream",
     "text": [
      "pre_etc(): df.shape=(891, 9)\n"
     ]
    },
    {
     "data": {
      "text/plain": [
       "(891, 9)"
      ]
     },
     "execution_count": 23,
     "metadata": {},
     "output_type": "execute_result"
    }
   ],
   "source": [
    "dfEtc = pre_etc(dfNa)\n",
    "dfEtc.shape"
   ]
  },
  {
   "cell_type": "code",
   "execution_count": null,
   "id": "42a18024",
   "metadata": {},
   "outputs": [],
   "source": []
  },
  {
   "cell_type": "markdown",
   "id": "a9f14bc4",
   "metadata": {},
   "source": [
    "### 전처리 함수들 정리"
   ]
  },
  {
   "cell_type": "code",
   "execution_count": 24,
   "id": "42585a1e",
   "metadata": {},
   "outputs": [],
   "source": [
    "# 위 3개 모음\n",
    "def pre_process(df):\n",
    "    df = del_cols(df)\n",
    "    df = na_handle(df)\n",
    "    df = pre_etc(df)\n",
    "    print(f\"pre_process: {df.shape=}\")\n",
    "    return df"
   ]
  },
  {
   "cell_type": "code",
   "execution_count": 25,
   "id": "97315d08",
   "metadata": {},
   "outputs": [
    {
     "name": "stdout",
     "output_type": "stream",
     "text": [
      "del_cols(): df.shape=(891, 9)\n",
      "na_handle(): df.shape=(891, 9)\n",
      "pre_etc(): df.shape=(891, 9)\n",
      "pre_process: df.shape=(891, 9)\n"
     ]
    }
   ],
   "source": [
    "dfPreN = pre_process(dfTrain)"
   ]
  },
  {
   "cell_type": "code",
   "execution_count": 26,
   "id": "d1952254",
   "metadata": {},
   "outputs": [
    {
     "name": "stdout",
     "output_type": "stream",
     "text": [
      "del_cols(): df.shape=(418, 8)\n",
      "na_handle(): df.shape=(418, 8)\n",
      "pre_etc(): df.shape=(418, 8)\n",
      "pre_process: df.shape=(418, 8)\n"
     ]
    }
   ],
   "source": [
    "dfPreT = pre_process(dfTest)"
   ]
  },
  {
   "cell_type": "code",
   "execution_count": null,
   "id": "ed9eabcb",
   "metadata": {},
   "outputs": [],
   "source": []
  },
  {
   "cell_type": "markdown",
   "id": "2af7c068",
   "metadata": {},
   "source": [
    "##### 전처리 후, 데이터 확인"
   ]
  },
  {
   "cell_type": "code",
   "execution_count": 27,
   "id": "c15faaad",
   "metadata": {},
   "outputs": [
    {
     "data": {
      "text/plain": [
       "Survived\n",
       "0    549\n",
       "1    342\n",
       "Name: count, dtype: int64"
      ]
     },
     "execution_count": 27,
     "metadata": {},
     "output_type": "execute_result"
    }
   ],
   "source": [
    "dfPreN.Survived.value_counts()"
   ]
  },
  {
   "cell_type": "code",
   "execution_count": 28,
   "id": "5bf16728",
   "metadata": {},
   "outputs": [
    {
     "data": {
      "text/plain": [
       "(0, 0)"
      ]
     },
     "execution_count": 28,
     "metadata": {},
     "output_type": "execute_result"
    }
   ],
   "source": [
    "dfPreN.isna().sum().sum(), dfPreT.isna().sum().sum()"
   ]
  },
  {
   "cell_type": "markdown",
   "id": "03f7b03a-b1a3-402b-a20a-97f88b27fb42",
   "metadata": {},
   "source": [
    "### 3-4. Age/Fare Category"
   ]
  },
  {
   "cell_type": "code",
   "execution_count": 29,
   "id": "3f32752c-6718-47ec-8f45-d5281c8ba641",
   "metadata": {},
   "outputs": [],
   "source": [
    "def age_fare(df):\n",
    "    def convert_age(v):\n",
    "        if v <= 5:\n",
    "            return 'Child'\n",
    "        elif v < 18:\n",
    "            return 'Student'\n",
    "        elif v < 48:\n",
    "            return 'Youth'\n",
    "        elif v < 65:\n",
    "            return 'Adult'\n",
    "        else:\n",
    "            return 'Senior'\n",
    "\n",
    "    def convert_fare(v):\n",
    "        if v < 50:\n",
    "            return '<50'\n",
    "        elif v < 150:\n",
    "            return '<150'\n",
    "        else:\n",
    "            return '>=150'\n",
    "\n",
    "    df = df.copy()\n",
    "    df['Age'] = df.Age.apply(convert_age)\n",
    "    df['Fare'] = df.Fare.apply(convert_fare)\n",
    "    return df"
   ]
  },
  {
   "cell_type": "code",
   "execution_count": 30,
   "id": "cfcec03a-0386-4e11-a357-7c0f52716aee",
   "metadata": {},
   "outputs": [
    {
     "data": {
      "text/plain": [
       "((891, 9), (418, 8))"
      ]
     },
     "execution_count": 30,
     "metadata": {},
     "output_type": "execute_result"
    }
   ],
   "source": [
    "dfCateN = age_fare(dfPreN)\n",
    "dfCateT = age_fare(dfPreT)\n",
    "dfCateN.shape, dfCateT.shape"
   ]
  },
  {
   "cell_type": "code",
   "execution_count": 31,
   "id": "fa101f81-278c-4c08-922f-b15b361d9be8",
   "metadata": {},
   "outputs": [
    {
     "data": {
      "text/html": [
       "<div>\n",
       "<style scoped>\n",
       "    .dataframe tbody tr th:only-of-type {\n",
       "        vertical-align: middle;\n",
       "    }\n",
       "\n",
       "    .dataframe tbody tr th {\n",
       "        vertical-align: top;\n",
       "    }\n",
       "\n",
       "    .dataframe thead th {\n",
       "        text-align: right;\n",
       "    }\n",
       "</style>\n",
       "<table border=\"1\" class=\"dataframe\">\n",
       "  <thead>\n",
       "    <tr style=\"text-align: right;\">\n",
       "      <th></th>\n",
       "      <th>Survived</th>\n",
       "      <th>Pclass</th>\n",
       "      <th>Sex</th>\n",
       "      <th>Age</th>\n",
       "      <th>SibSp</th>\n",
       "      <th>Parch</th>\n",
       "      <th>Fare</th>\n",
       "      <th>Cabin</th>\n",
       "      <th>Embarked</th>\n",
       "    </tr>\n",
       "  </thead>\n",
       "  <tbody>\n",
       "    <tr>\n",
       "      <th>0</th>\n",
       "      <td>0</td>\n",
       "      <td>3</td>\n",
       "      <td>male</td>\n",
       "      <td>Youth</td>\n",
       "      <td>1</td>\n",
       "      <td>0</td>\n",
       "      <td>&lt;50</td>\n",
       "      <td>Z</td>\n",
       "      <td>S</td>\n",
       "    </tr>\n",
       "    <tr>\n",
       "      <th>1</th>\n",
       "      <td>1</td>\n",
       "      <td>1</td>\n",
       "      <td>female</td>\n",
       "      <td>Youth</td>\n",
       "      <td>1</td>\n",
       "      <td>0</td>\n",
       "      <td>&lt;150</td>\n",
       "      <td>C</td>\n",
       "      <td>C</td>\n",
       "    </tr>\n",
       "    <tr>\n",
       "      <th>2</th>\n",
       "      <td>1</td>\n",
       "      <td>3</td>\n",
       "      <td>female</td>\n",
       "      <td>Youth</td>\n",
       "      <td>0</td>\n",
       "      <td>0</td>\n",
       "      <td>&lt;50</td>\n",
       "      <td>Z</td>\n",
       "      <td>S</td>\n",
       "    </tr>\n",
       "    <tr>\n",
       "      <th>3</th>\n",
       "      <td>1</td>\n",
       "      <td>1</td>\n",
       "      <td>female</td>\n",
       "      <td>Youth</td>\n",
       "      <td>1</td>\n",
       "      <td>0</td>\n",
       "      <td>&lt;150</td>\n",
       "      <td>C</td>\n",
       "      <td>S</td>\n",
       "    </tr>\n",
       "    <tr>\n",
       "      <th>4</th>\n",
       "      <td>0</td>\n",
       "      <td>3</td>\n",
       "      <td>male</td>\n",
       "      <td>Youth</td>\n",
       "      <td>0</td>\n",
       "      <td>0</td>\n",
       "      <td>&lt;50</td>\n",
       "      <td>Z</td>\n",
       "      <td>S</td>\n",
       "    </tr>\n",
       "  </tbody>\n",
       "</table>\n",
       "</div>"
      ],
      "text/plain": [
       "   Survived  Pclass     Sex    Age  SibSp  Parch  Fare Cabin Embarked\n",
       "0         0       3    male  Youth      1      0   <50     Z        S\n",
       "1         1       1  female  Youth      1      0  <150     C        C\n",
       "2         1       3  female  Youth      0      0   <50     Z        S\n",
       "3         1       1  female  Youth      1      0  <150     C        S\n",
       "4         0       3    male  Youth      0      0   <50     Z        S"
      ]
     },
     "execution_count": 31,
     "metadata": {},
     "output_type": "execute_result"
    }
   ],
   "source": [
    "dfCateN.head()"
   ]
  },
  {
   "cell_type": "code",
   "execution_count": null,
   "id": "d19dd593-c4f7-48ba-874b-904c07872cae",
   "metadata": {},
   "outputs": [],
   "source": []
  },
  {
   "cell_type": "markdown",
   "id": "30bad651",
   "metadata": {},
   "source": [
    "### 4. Label Encoding"
   ]
  },
  {
   "cell_type": "markdown",
   "id": "d063e76e",
   "metadata": {},
   "source": [
    "##### (1) 문자열 컬럼에, 각 컬럼별로 수행한다. (2) Train 과 Test 에 동일한 Encoder 를 사용한다.\n",
    "##### (참고) One-Hot Encoding"
   ]
  },
  {
   "cell_type": "code",
   "execution_count": 32,
   "id": "2782748a",
   "metadata": {},
   "outputs": [],
   "source": [
    "from sklearn.preprocessing import LabelEncoder"
   ]
  },
  {
   "cell_type": "code",
   "execution_count": 33,
   "id": "63f6b61c",
   "metadata": {},
   "outputs": [],
   "source": [
    "def label_encode(df1, df2):\n",
    "    le = LabelEncoder()\n",
    "    \n",
    "    df1 = df1.copy()\n",
    "    df2 = df2.copy()\n",
    "    for c in df1.select_dtypes('object').columns:\n",
    "        le.fit(df1[c])\n",
    "        df1[c] = le.transform(df1[c])\n",
    "        df2[c] = le.transform(df2[c])\n",
    "    print(f\"label_encode(): {df1.shape=}, {df2.shape=}\")\n",
    "    return df1, df2"
   ]
  },
  {
   "cell_type": "code",
   "execution_count": 34,
   "id": "2c449654",
   "metadata": {},
   "outputs": [
    {
     "name": "stdout",
     "output_type": "stream",
     "text": [
      "label_encode(): df1.shape=(891, 9), df2.shape=(418, 8)\n"
     ]
    }
   ],
   "source": [
    "dfLabelN, dfLabelT = label_encode(dfCateN, dfCateT)"
   ]
  },
  {
   "cell_type": "code",
   "execution_count": null,
   "id": "caf35213",
   "metadata": {},
   "outputs": [],
   "source": []
  },
  {
   "cell_type": "markdown",
   "id": "494355dc",
   "metadata": {},
   "source": [
    "### 5. Standard Scaling"
   ]
  },
  {
   "cell_type": "markdown",
   "id": "d53aaafc",
   "metadata": {},
   "source": [
    "##### (1) 모든 컬럼에, 한꺼번에 수행한다. (2) Train 과 Test 에 동일한 Scaler 를 사용한다.\n",
    "##### (참고) MinMaxScaling"
   ]
  },
  {
   "cell_type": "code",
   "execution_count": 35,
   "id": "b442f8a1",
   "metadata": {},
   "outputs": [],
   "source": [
    "from sklearn.preprocessing import StandardScaler"
   ]
  },
  {
   "cell_type": "code",
   "execution_count": 36,
   "id": "9106bfaf",
   "metadata": {},
   "outputs": [],
   "source": [
    "def standard_scale(df1, df2):\n",
    "    scaler = StandardScaler()\n",
    "    \n",
    "    df1 = df1.copy()\n",
    "    df2 = df2.copy()\n",
    "    target = df1.pop('Survived')\n",
    "    \n",
    "    scaler.fit(df1)\n",
    "    scale1 = scaler.transform(df1)\n",
    "    scale2 = scaler.transform(df2)\n",
    "    \n",
    "    tmp = pd.DataFrame(scale1, columns=df1.columns)\n",
    "    df1 = pd.concat([target, tmp], axis=1)\n",
    "    df2 = pd.DataFrame(scale2, columns=df2.columns)\n",
    "    \n",
    "    print(f\"standard_scale(): {df1.shape=}, {df2.shape=}\")\n",
    "    return df1, df2"
   ]
  },
  {
   "cell_type": "code",
   "execution_count": 37,
   "id": "bf05d79b",
   "metadata": {},
   "outputs": [
    {
     "name": "stdout",
     "output_type": "stream",
     "text": [
      "standard_scale(): df1.shape=(891, 9), df2.shape=(418, 8)\n"
     ]
    }
   ],
   "source": [
    "dfScaleN, dfScaleT = standard_scale(dfLabelN, dfLabelT)"
   ]
  },
  {
   "cell_type": "code",
   "execution_count": null,
   "id": "f6a35fb5",
   "metadata": {},
   "outputs": [],
   "source": []
  },
  {
   "cell_type": "markdown",
   "id": "437eaa32",
   "metadata": {},
   "source": [
    "### 6. train_test_split()"
   ]
  },
  {
   "cell_type": "markdown",
   "id": "2ad82311",
   "metadata": {},
   "source": [
    "##### dfTrain 대상, dfTest 는 적용대상 아님\n",
    "##### &emsp; -. Train 데이터는 모델 학습용, Test 데이터는 모델 평가용\n",
    "##### &emsp; -. Valid 데이터는 과적합(Overfitting) 방지용\n",
    "##### stratify=y : y 데이터의 비율을 유지하면서, 데이터를 분리함"
   ]
  },
  {
   "cell_type": "code",
   "execution_count": 38,
   "id": "c7f573f7",
   "metadata": {},
   "outputs": [],
   "source": [
    "from sklearn.model_selection import train_test_split"
   ]
  },
  {
   "cell_type": "code",
   "execution_count": 39,
   "id": "ba76cd88",
   "metadata": {},
   "outputs": [
    {
     "name": "stdout",
     "output_type": "stream",
     "text": [
      "trainX.shape=(712, 8), testX.shape=(179, 8), trainy.shape=(712,), testy.shape=(179,)\n"
     ]
    }
   ],
   "source": [
    "X = dfScaleN.drop('Survived', axis=1)\n",
    "y = dfScaleN.Survived\n",
    "\n",
    "trainX, testX, trainy, testy = train_test_split(X, y, test_size=0.2, random_state=1004, stratify=y)\n",
    "print(f\"{trainX.shape=}, {testX.shape=}, {trainy.shape=}, {testy.shape=}\")"
   ]
  },
  {
   "cell_type": "code",
   "execution_count": null,
   "id": "4e30c03e",
   "metadata": {},
   "outputs": [],
   "source": []
  },
  {
   "cell_type": "markdown",
   "id": "30a6ccc9",
   "metadata": {},
   "source": [
    "# 7. 모델 학습/평가"
   ]
  },
  {
   "cell_type": "markdown",
   "id": "7343d418",
   "metadata": {},
   "source": [
    "##### 처리 과정 : 알고리즘 선택(초기 모델) -> 학습 -> 평가 --(반복)--> 최종 모델\n",
    "##### 분류 알고리즘 예시 : 결정 트리, 랜덤 포레스트, 로지스틱 회귀"
   ]
  },
  {
   "cell_type": "markdown",
   "id": "fed8b990",
   "metadata": {},
   "source": [
    "### Decision Tree, 결정 트리 알고리즘"
   ]
  },
  {
   "cell_type": "code",
   "execution_count": 40,
   "id": "2a3de267",
   "metadata": {},
   "outputs": [],
   "source": [
    "from sklearn.tree import DecisionTreeClassifier\n",
    "from sklearn.metrics import accuracy_score"
   ]
  },
  {
   "cell_type": "code",
   "execution_count": 43,
   "id": "621fed89-4887-4375-8ac3-74d160d2dbbb",
   "metadata": {},
   "outputs": [],
   "source": [
    "# Decision Tree 정확도 : 0.7654\n",
    "# dt = DecisionTreeClassifier(random_state=1004)\n",
    "# dt.fit(trainX, trainy)\n",
    "# dtPreds = dt.predict(testX)\n",
    "\n",
    "# acc = accuracy_score(testy, dtPreds)\n",
    "# print(f\"Decision Tree 정확도 : {acc:.4f}\")"
   ]
  },
  {
   "cell_type": "code",
   "execution_count": 42,
   "id": "c1f9ce0a-b3fc-4d69-a40c-0899ac51ad49",
   "metadata": {},
   "outputs": [
    {
     "name": "stdout",
     "output_type": "stream",
     "text": [
      "Decision Tree 정확도 : 0.7821\n"
     ]
    }
   ],
   "source": [
    "dt = DecisionTreeClassifier(random_state=1004)\n",
    "dt.fit(trainX, trainy)\n",
    "dtPreds = dt.predict(testX)\n",
    "\n",
    "acc = accuracy_score(testy, dtPreds)\n",
    "print(f\"Decision Tree 정확도 : {acc:.4f}\")"
   ]
  },
  {
   "cell_type": "markdown",
   "id": "902424cc",
   "metadata": {},
   "source": [
    "### 다른 알고리즘"
   ]
  },
  {
   "cell_type": "code",
   "execution_count": 44,
   "id": "d2db5722",
   "metadata": {},
   "outputs": [],
   "source": [
    "from sklearn.ensemble import RandomForestClassifier\n",
    "from sklearn.linear_model import LogisticRegression"
   ]
  },
  {
   "cell_type": "code",
   "execution_count": 40,
   "id": "20dfc268",
   "metadata": {},
   "outputs": [
    {
     "name": "stdout",
     "output_type": "stream",
     "text": [
      "Random Forest 정확도 : 0.7989\n",
      "Logistic Regression 정확도 : 0.8045\n"
     ]
    }
   ],
   "source": [
    "# Random Forest 정확도 : 0.7989\n",
    "# Logistic Regression 정확도 : 0.8045\n",
    "\n",
    "# rf = RandomForestClassifier(random_state=1004)\n",
    "# lr = LogisticRegression(random_state=1004)\n",
    "\n",
    "# rf.fit(trainX, trainy)\n",
    "# lr.fit(trainX, trainy)\n",
    "\n",
    "# rfPreds = rf.predict(testX)\n",
    "# lrPreds = lr.predict(testX)\n",
    "\n",
    "# rfAcc = accuracy_score(testy, rfPreds)\n",
    "# lrAcc = accuracy_score(testy, lrPreds)\n",
    "# print(f\"Random Forest 정확도 : {rfAcc:.4f}\")\n",
    "# print(f\"Logistic Regression 정확도 : {lrAcc:.4f}\")"
   ]
  },
  {
   "cell_type": "code",
   "execution_count": 45,
   "id": "6784a920-1b51-4675-8992-a7d70891b0db",
   "metadata": {},
   "outputs": [
    {
     "name": "stdout",
     "output_type": "stream",
     "text": [
      "Random Forest 정확도 : 0.7933\n",
      "Logistic Regression 정확도 : 0.8101\n"
     ]
    }
   ],
   "source": [
    "rf = RandomForestClassifier(random_state=1004)\n",
    "lr = LogisticRegression(random_state=1004)\n",
    "\n",
    "rf.fit(trainX, trainy)\n",
    "lr.fit(trainX, trainy)\n",
    "\n",
    "rfPreds = rf.predict(testX)\n",
    "lrPreds = lr.predict(testX)\n",
    "\n",
    "rfAcc = accuracy_score(testy, rfPreds)\n",
    "lrAcc = accuracy_score(testy, lrPreds)\n",
    "print(f\"Random Forest 정확도 : {rfAcc:.4f}\")\n",
    "print(f\"Logistic Regression 정확도 : {lrAcc:.4f}\")"
   ]
  },
  {
   "cell_type": "code",
   "execution_count": null,
   "id": "96949db4",
   "metadata": {},
   "outputs": [],
   "source": []
  },
  {
   "cell_type": "markdown",
   "id": "755a11f2",
   "metadata": {},
   "source": [
    "### 8. 실제 예측"
   ]
  },
  {
   "cell_type": "markdown",
   "id": "15b5fa84",
   "metadata": {},
   "source": [
    "##### 최종 모델을 만든 후에, 실제 데이터를 예측한다.\n",
    "##### target 컬럼이 없는 데이터에, 최종 모델을 적용해 값을 예측함.\n",
    "##### (최종 모델 활용 예시) : 실제 데이터 예측, 해커톤 답안 제출, 웹 프로그램에 활용, 등등등"
   ]
  },
  {
   "cell_type": "code",
   "execution_count": 46,
   "id": "11ca557a",
   "metadata": {},
   "outputs": [
    {
     "data": {
      "text/plain": [
       "(418, 8)"
      ]
     },
     "execution_count": 46,
     "metadata": {},
     "output_type": "execute_result"
    }
   ],
   "source": [
    "# dfTest = pd.read_csv(TEST_DATA)\n",
    "# dfScaleT = standard_scale(dfLabelT)\n",
    "\n",
    "# REAL_DATA, dfReal, dfPreR, dfLabelR, dfScaleR\n",
    "dfScaleR = dfScaleT\n",
    "dfScaleR.shape"
   ]
  },
  {
   "cell_type": "code",
   "execution_count": 47,
   "id": "1fc95373",
   "metadata": {},
   "outputs": [
    {
     "name": "stdout",
     "output_type": "stream",
     "text": [
      "preds.shape=(418,)\n"
     ]
    }
   ],
   "source": [
    "preds = lr.predict(dfScaleR)\n",
    "print(f\"{preds.shape=}\")"
   ]
  },
  {
   "cell_type": "code",
   "execution_count": 48,
   "id": "9bb196fb",
   "metadata": {},
   "outputs": [
    {
     "data": {
      "text/plain": [
       "array([0, 1, 0, 0, 1, 0, 1, 0, 1, 0], dtype=int64)"
      ]
     },
     "execution_count": 48,
     "metadata": {},
     "output_type": "execute_result"
    }
   ],
   "source": [
    "preds[:10]"
   ]
  },
  {
   "cell_type": "code",
   "execution_count": null,
   "id": "71504bb5",
   "metadata": {},
   "outputs": [],
   "source": []
  },
  {
   "cell_type": "markdown",
   "id": "e8ca953d",
   "metadata": {},
   "source": [
    "# AI Predict 예시"
   ]
  },
  {
   "cell_type": "markdown",
   "id": "a86afb17",
   "metadata": {},
   "source": [
    "##### 개별 데이터 예측 - DataFrame or 2d array 입력"
   ]
  },
  {
   "cell_type": "code",
   "execution_count": 49,
   "id": "7775ff40",
   "metadata": {},
   "outputs": [
    {
     "data": {
      "text/html": [
       "<div>\n",
       "<style scoped>\n",
       "    .dataframe tbody tr th:only-of-type {\n",
       "        vertical-align: middle;\n",
       "    }\n",
       "\n",
       "    .dataframe tbody tr th {\n",
       "        vertical-align: top;\n",
       "    }\n",
       "\n",
       "    .dataframe thead th {\n",
       "        text-align: right;\n",
       "    }\n",
       "</style>\n",
       "<table border=\"1\" class=\"dataframe\">\n",
       "  <thead>\n",
       "    <tr style=\"text-align: right;\">\n",
       "      <th></th>\n",
       "      <th>Pclass</th>\n",
       "      <th>Sex</th>\n",
       "      <th>Age</th>\n",
       "      <th>SibSp</th>\n",
       "      <th>Parch</th>\n",
       "      <th>Fare</th>\n",
       "      <th>Cabin</th>\n",
       "      <th>Embarked</th>\n",
       "    </tr>\n",
       "  </thead>\n",
       "  <tbody>\n",
       "    <tr>\n",
       "      <th>0</th>\n",
       "      <td>0.827377</td>\n",
       "      <td>0.737695</td>\n",
       "      <td>0.473014</td>\n",
       "      <td>-0.474545</td>\n",
       "      <td>-0.473674</td>\n",
       "      <td>0.282598</td>\n",
       "      <td>0.522067</td>\n",
       "      <td>-0.678175</td>\n",
       "    </tr>\n",
       "    <tr>\n",
       "      <th>1</th>\n",
       "      <td>0.827377</td>\n",
       "      <td>-1.355574</td>\n",
       "      <td>0.473014</td>\n",
       "      <td>0.432793</td>\n",
       "      <td>-0.473674</td>\n",
       "      <td>0.282598</td>\n",
       "      <td>0.522067</td>\n",
       "      <td>0.585954</td>\n",
       "    </tr>\n",
       "    <tr>\n",
       "      <th>2</th>\n",
       "      <td>-0.369365</td>\n",
       "      <td>0.737695</td>\n",
       "      <td>-2.678055</td>\n",
       "      <td>-0.474545</td>\n",
       "      <td>-0.473674</td>\n",
       "      <td>0.282598</td>\n",
       "      <td>0.522067</td>\n",
       "      <td>-0.678175</td>\n",
       "    </tr>\n",
       "    <tr>\n",
       "      <th>3</th>\n",
       "      <td>0.827377</td>\n",
       "      <td>0.737695</td>\n",
       "      <td>0.473014</td>\n",
       "      <td>-0.474545</td>\n",
       "      <td>-0.473674</td>\n",
       "      <td>0.282598</td>\n",
       "      <td>0.522067</td>\n",
       "      <td>0.585954</td>\n",
       "    </tr>\n",
       "    <tr>\n",
       "      <th>4</th>\n",
       "      <td>0.827377</td>\n",
       "      <td>-1.355574</td>\n",
       "      <td>0.473014</td>\n",
       "      <td>0.432793</td>\n",
       "      <td>0.767630</td>\n",
       "      <td>0.282598</td>\n",
       "      <td>0.522067</td>\n",
       "      <td>0.585954</td>\n",
       "    </tr>\n",
       "  </tbody>\n",
       "</table>\n",
       "</div>"
      ],
      "text/plain": [
       "     Pclass       Sex       Age     SibSp     Parch      Fare     Cabin   \n",
       "0  0.827377  0.737695  0.473014 -0.474545 -0.473674  0.282598  0.522067  \\\n",
       "1  0.827377 -1.355574  0.473014  0.432793 -0.473674  0.282598  0.522067   \n",
       "2 -0.369365  0.737695 -2.678055 -0.474545 -0.473674  0.282598  0.522067   \n",
       "3  0.827377  0.737695  0.473014 -0.474545 -0.473674  0.282598  0.522067   \n",
       "4  0.827377 -1.355574  0.473014  0.432793  0.767630  0.282598  0.522067   \n",
       "\n",
       "   Embarked  \n",
       "0 -0.678175  \n",
       "1  0.585954  \n",
       "2 -0.678175  \n",
       "3  0.585954  \n",
       "4  0.585954  "
      ]
     },
     "execution_count": 49,
     "metadata": {},
     "output_type": "execute_result"
    }
   ],
   "source": [
    "dfScaleR.head()"
   ]
  },
  {
   "cell_type": "code",
   "execution_count": 50,
   "id": "67d58af0",
   "metadata": {},
   "outputs": [
    {
     "data": {
      "text/plain": [
       "[0.827377,\n",
       " 0.737695,\n",
       " 0.473014,\n",
       " -0.474545,\n",
       " -0.473674,\n",
       " 0.282598,\n",
       " 0.522067,\n",
       " -0.678175]"
      ]
     },
     "execution_count": 50,
     "metadata": {},
     "output_type": "execute_result"
    }
   ],
   "source": [
    "row = '0.827377\t0.737695\t0.473014\t-0.474545\t-0.473674\t0.282598\t0.522067\t-0.678175'\n",
    "arr = [float(i) for i in row.split()]\n",
    "arr"
   ]
  },
  {
   "cell_type": "code",
   "execution_count": 51,
   "id": "db8e3c4f",
   "metadata": {},
   "outputs": [
    {
     "name": "stderr",
     "output_type": "stream",
     "text": [
      "F:\\InfLecture\\VENV\\v311AiWeb\\Lib\\site-packages\\sklearn\\base.py:439: UserWarning: X does not have valid feature names, but LogisticRegression was fitted with feature names\n",
      "  warnings.warn(\n"
     ]
    },
    {
     "data": {
      "text/plain": [
       "array([0], dtype=int64)"
      ]
     },
     "execution_count": 51,
     "metadata": {},
     "output_type": "execute_result"
    }
   ],
   "source": [
    "lr.predict([arr])"
   ]
  },
  {
   "cell_type": "markdown",
   "id": "20e5a174",
   "metadata": {},
   "source": [
    "##### 데이터 변환 : dfTrain -> dfPreN -> dfCateN -> dfLabelN -> dfScaleN\n",
    "##### dfCateN 데이터 사용하고, label/scale 처리 필요함"
   ]
  },
  {
   "cell_type": "code",
   "execution_count": 52,
   "id": "dac78a75",
   "metadata": {},
   "outputs": [
    {
     "data": {
      "text/html": [
       "<div>\n",
       "<style scoped>\n",
       "    .dataframe tbody tr th:only-of-type {\n",
       "        vertical-align: middle;\n",
       "    }\n",
       "\n",
       "    .dataframe tbody tr th {\n",
       "        vertical-align: top;\n",
       "    }\n",
       "\n",
       "    .dataframe thead th {\n",
       "        text-align: right;\n",
       "    }\n",
       "</style>\n",
       "<table border=\"1\" class=\"dataframe\">\n",
       "  <thead>\n",
       "    <tr style=\"text-align: right;\">\n",
       "      <th></th>\n",
       "      <th>Survived</th>\n",
       "      <th>Pclass</th>\n",
       "      <th>Sex</th>\n",
       "      <th>Age</th>\n",
       "      <th>SibSp</th>\n",
       "      <th>Parch</th>\n",
       "      <th>Fare</th>\n",
       "      <th>Cabin</th>\n",
       "      <th>Embarked</th>\n",
       "    </tr>\n",
       "  </thead>\n",
       "  <tbody>\n",
       "    <tr>\n",
       "      <th>0</th>\n",
       "      <td>0</td>\n",
       "      <td>3</td>\n",
       "      <td>male</td>\n",
       "      <td>Youth</td>\n",
       "      <td>1</td>\n",
       "      <td>0</td>\n",
       "      <td>&lt;50</td>\n",
       "      <td>Z</td>\n",
       "      <td>S</td>\n",
       "    </tr>\n",
       "    <tr>\n",
       "      <th>1</th>\n",
       "      <td>1</td>\n",
       "      <td>1</td>\n",
       "      <td>female</td>\n",
       "      <td>Youth</td>\n",
       "      <td>1</td>\n",
       "      <td>0</td>\n",
       "      <td>&lt;150</td>\n",
       "      <td>C</td>\n",
       "      <td>C</td>\n",
       "    </tr>\n",
       "    <tr>\n",
       "      <th>2</th>\n",
       "      <td>1</td>\n",
       "      <td>3</td>\n",
       "      <td>female</td>\n",
       "      <td>Youth</td>\n",
       "      <td>0</td>\n",
       "      <td>0</td>\n",
       "      <td>&lt;50</td>\n",
       "      <td>Z</td>\n",
       "      <td>S</td>\n",
       "    </tr>\n",
       "    <tr>\n",
       "      <th>3</th>\n",
       "      <td>1</td>\n",
       "      <td>1</td>\n",
       "      <td>female</td>\n",
       "      <td>Youth</td>\n",
       "      <td>1</td>\n",
       "      <td>0</td>\n",
       "      <td>&lt;150</td>\n",
       "      <td>C</td>\n",
       "      <td>S</td>\n",
       "    </tr>\n",
       "    <tr>\n",
       "      <th>4</th>\n",
       "      <td>0</td>\n",
       "      <td>3</td>\n",
       "      <td>male</td>\n",
       "      <td>Youth</td>\n",
       "      <td>0</td>\n",
       "      <td>0</td>\n",
       "      <td>&lt;50</td>\n",
       "      <td>Z</td>\n",
       "      <td>S</td>\n",
       "    </tr>\n",
       "  </tbody>\n",
       "</table>\n",
       "</div>"
      ],
      "text/plain": [
       "   Survived  Pclass     Sex    Age  SibSp  Parch  Fare Cabin Embarked\n",
       "0         0       3    male  Youth      1      0   <50     Z        S\n",
       "1         1       1  female  Youth      1      0  <150     C        C\n",
       "2         1       3  female  Youth      0      0   <50     Z        S\n",
       "3         1       1  female  Youth      1      0  <150     C        S\n",
       "4         0       3    male  Youth      0      0   <50     Z        S"
      ]
     },
     "execution_count": 52,
     "metadata": {},
     "output_type": "execute_result"
    }
   ],
   "source": [
    "dfCateN.head()"
   ]
  },
  {
   "cell_type": "markdown",
   "id": "77414d89",
   "metadata": {},
   "source": [
    "##### pickle and save"
   ]
  },
  {
   "cell_type": "code",
   "execution_count": 53,
   "id": "50a59c9e",
   "metadata": {},
   "outputs": [],
   "source": [
    "dctPickle = {}"
   ]
  },
  {
   "cell_type": "code",
   "execution_count": 54,
   "id": "73ad4074",
   "metadata": {},
   "outputs": [],
   "source": [
    "from copy import copy\n",
    "\n",
    "def label_encode_pickle(df1, df2):\n",
    "    le = LabelEncoder()\n",
    "    \n",
    "    df1 = df1.copy()\n",
    "    df2 = df2.copy()\n",
    "    for c in df1.select_dtypes('object').columns:\n",
    "        le.fit(df1[c])\n",
    "        df1[c] = le.transform(df1[c])\n",
    "        df2[c] = le.transform(df2[c])\n",
    "        dctPickle[c] = copy(le)\n",
    "    print(f\"label_encode_pickle(): {df1.shape=}, {df2.shape=}\")\n",
    "    return df1, df2"
   ]
  },
  {
   "cell_type": "code",
   "execution_count": 55,
   "id": "f2b64aca",
   "metadata": {},
   "outputs": [
    {
     "name": "stdout",
     "output_type": "stream",
     "text": [
      "label_encode_pickle(): df1.shape=(891, 9), df2.shape=(418, 8)\n"
     ]
    }
   ],
   "source": [
    "dfLabelN, dfLabelT = label_encode_pickle(dfCateN, dfCateT)"
   ]
  },
  {
   "cell_type": "code",
   "execution_count": 56,
   "id": "2ef4a5a3",
   "metadata": {},
   "outputs": [],
   "source": [
    "def standard_scale_pickle(df1, df2):\n",
    "    scaler = StandardScaler()\n",
    "    \n",
    "    df1 = df1.copy()\n",
    "    df2 = df2.copy()\n",
    "    target = df1.pop('Survived')\n",
    "    \n",
    "    scaler.fit(df1)\n",
    "    scale1 = scaler.transform(df1)\n",
    "    scale2 = scaler.transform(df2)\n",
    "    dctPickle['scaler'] = scaler\n",
    "    \n",
    "    tmp = pd.DataFrame(scale1, columns=df1.columns)\n",
    "    df1 = pd.concat([target, tmp], axis=1)\n",
    "    df2 = pd.DataFrame(scale2, columns=df2.columns)\n",
    "    \n",
    "    print(f\"standard_scale_pickle(): {df1.shape=}, {df2.shape=}\")\n",
    "    return df1, df2"
   ]
  },
  {
   "cell_type": "code",
   "execution_count": 57,
   "id": "a48697a3",
   "metadata": {},
   "outputs": [
    {
     "name": "stdout",
     "output_type": "stream",
     "text": [
      "standard_scale_pickle(): df1.shape=(891, 9), df2.shape=(418, 8)\n"
     ]
    }
   ],
   "source": [
    "dfScaleN, dfScaleT = standard_scale_pickle(dfLabelN, dfLabelT)"
   ]
  },
  {
   "cell_type": "code",
   "execution_count": 58,
   "id": "806023a9",
   "metadata": {},
   "outputs": [],
   "source": [
    "dctPickle['model'] = lr"
   ]
  },
  {
   "cell_type": "code",
   "execution_count": 59,
   "id": "5dc94a2a",
   "metadata": {},
   "outputs": [
    {
     "data": {
      "text/plain": [
       "{'Sex': LabelEncoder(),\n",
       " 'Age': LabelEncoder(),\n",
       " 'Fare': LabelEncoder(),\n",
       " 'Cabin': LabelEncoder(),\n",
       " 'Embarked': LabelEncoder(),\n",
       " 'scaler': StandardScaler(),\n",
       " 'model': LogisticRegression(random_state=1004)}"
      ]
     },
     "execution_count": 59,
     "metadata": {},
     "output_type": "execute_result"
    }
   ],
   "source": [
    "dctPickle"
   ]
  },
  {
   "cell_type": "code",
   "execution_count": 60,
   "id": "7cea7d8a",
   "metadata": {},
   "outputs": [
    {
     "data": {
      "text/plain": [
       "array(['female', 'male'], dtype=object)"
      ]
     },
     "execution_count": 60,
     "metadata": {},
     "output_type": "execute_result"
    }
   ],
   "source": [
    "dctPickle['Sex'].classes_"
   ]
  },
  {
   "cell_type": "code",
   "execution_count": 61,
   "id": "7f5297ca",
   "metadata": {},
   "outputs": [
    {
     "data": {
      "text/plain": [
       "array(['A', 'B', 'C', 'D', 'E', 'F', 'G', 'T', 'Z'], dtype=object)"
      ]
     },
     "execution_count": 61,
     "metadata": {},
     "output_type": "execute_result"
    }
   ],
   "source": [
    "dctPickle['Cabin'].classes_"
   ]
  },
  {
   "cell_type": "code",
   "execution_count": 62,
   "id": "d874a100",
   "metadata": {},
   "outputs": [
    {
     "data": {
      "text/plain": [
       "array(['C', 'Q', 'S'], dtype=object)"
      ]
     },
     "execution_count": 62,
     "metadata": {},
     "output_type": "execute_result"
    }
   ],
   "source": [
    "dctPickle['Embarked'].classes_"
   ]
  },
  {
   "cell_type": "markdown",
   "id": "128a107b",
   "metadata": {},
   "source": [
    "##### AI 객체들 저장"
   ]
  },
  {
   "cell_type": "code",
   "execution_count": 63,
   "id": "3f6660aa",
   "metadata": {},
   "outputs": [],
   "source": [
    "import joblib"
   ]
  },
  {
   "cell_type": "code",
   "execution_count": 64,
   "id": "83c44574",
   "metadata": {},
   "outputs": [
    {
     "data": {
      "text/plain": [
       "WindowsPath('F:/InfLecture/AiWeb/StDashboard/jnotebook')"
      ]
     },
     "execution_count": 64,
     "metadata": {},
     "output_type": "execute_result"
    }
   ],
   "source": [
    "Path.cwd()"
   ]
  },
  {
   "cell_type": "code",
   "execution_count": 65,
   "id": "48fa5cd1",
   "metadata": {},
   "outputs": [
    {
     "name": "stdout",
     "output_type": "stream",
     "text": [
      " F 드라이브의 볼륨: IamSHKIM\n",
      " 볼륨 일련 번호: A828-0F0B\n",
      "\n",
      " F:\\InfLecture\\AiWeb\\StDashboard\\DATA 디렉터리\n",
      "\n",
      "2023-08-27  오후 01:47    <DIR>          .\n",
      "2023-08-27  오후 01:47    <DIR>          ..\n",
      "2024-01-17  오전 07:20             3,161 dct0827.pkl\n",
      "2019-12-11  오전 02:17            28,629 titanic_test.csv\n",
      "2020-10-30  오전 09:22            60,302 titanic_train.csv\n",
      "               3개 파일              92,092 바이트\n",
      "               2개 디렉터리  1,598,251,294,720 바이트 남음\n"
     ]
    }
   ],
   "source": [
    "! dir ..\\DATA"
   ]
  },
  {
   "cell_type": "code",
   "execution_count": 66,
   "id": "0734472d",
   "metadata": {},
   "outputs": [
    {
     "data": {
      "text/plain": [
       "['F:\\\\InfLecture\\\\AiWeb\\\\StDashboard\\\\DATA\\\\dct0130.pkl']"
      ]
     },
     "execution_count": 66,
     "metadata": {},
     "output_type": "execute_result"
    }
   ],
   "source": [
    "PICKLE_NAME = Path.cwd().parent / 'DATA/dct0130.pkl'\n",
    "\n",
    "joblib.dump(dctPickle, PICKLE_NAME)"
   ]
  },
  {
   "cell_type": "code",
   "execution_count": 67,
   "id": "7379d7ef",
   "metadata": {},
   "outputs": [
    {
     "name": "stdout",
     "output_type": "stream",
     "text": [
      " F 드라이브의 볼륨: IamSHKIM\n",
      " 볼륨 일련 번호: A828-0F0B\n",
      "\n",
      " F:\\InfLecture\\AiWeb\\StDashboard\\DATA 디렉터리\n",
      "\n",
      "2024-01-30  오후 12:00    <DIR>          .\n",
      "2024-01-30  오후 12:00    <DIR>          ..\n",
      "2024-01-30  오후 12:00             3,785 dct0130.pkl\n",
      "2024-01-17  오전 07:20             3,161 dct0827.pkl\n",
      "2019-12-11  오전 02:17            28,629 titanic_test.csv\n",
      "2020-10-30  오전 09:22            60,302 titanic_train.csv\n",
      "               4개 파일              95,877 바이트\n",
      "               2개 디렉터리  1,598,251,290,624 바이트 남음\n"
     ]
    }
   ],
   "source": [
    "! dir ..\\DATA"
   ]
  },
  {
   "cell_type": "code",
   "execution_count": null,
   "id": "5c8b535a",
   "metadata": {},
   "outputs": [],
   "source": []
  },
  {
   "cell_type": "markdown",
   "id": "aa204a51",
   "metadata": {},
   "source": [
    "### AI Predict 예측 Web 모의 실행"
   ]
  },
  {
   "cell_type": "code",
   "execution_count": 68,
   "id": "4ab600a9",
   "metadata": {},
   "outputs": [
    {
     "data": {
      "text/html": [
       "<div>\n",
       "<style scoped>\n",
       "    .dataframe tbody tr th:only-of-type {\n",
       "        vertical-align: middle;\n",
       "    }\n",
       "\n",
       "    .dataframe tbody tr th {\n",
       "        vertical-align: top;\n",
       "    }\n",
       "\n",
       "    .dataframe thead th {\n",
       "        text-align: right;\n",
       "    }\n",
       "</style>\n",
       "<table border=\"1\" class=\"dataframe\">\n",
       "  <thead>\n",
       "    <tr style=\"text-align: right;\">\n",
       "      <th></th>\n",
       "      <th>Survived</th>\n",
       "      <th>Pclass</th>\n",
       "      <th>Sex</th>\n",
       "      <th>Age</th>\n",
       "      <th>SibSp</th>\n",
       "      <th>Parch</th>\n",
       "      <th>Fare</th>\n",
       "      <th>Cabin</th>\n",
       "      <th>Embarked</th>\n",
       "    </tr>\n",
       "  </thead>\n",
       "  <tbody>\n",
       "    <tr>\n",
       "      <th>0</th>\n",
       "      <td>0</td>\n",
       "      <td>3</td>\n",
       "      <td>male</td>\n",
       "      <td>Youth</td>\n",
       "      <td>1</td>\n",
       "      <td>0</td>\n",
       "      <td>&lt;50</td>\n",
       "      <td>Z</td>\n",
       "      <td>S</td>\n",
       "    </tr>\n",
       "    <tr>\n",
       "      <th>1</th>\n",
       "      <td>1</td>\n",
       "      <td>1</td>\n",
       "      <td>female</td>\n",
       "      <td>Youth</td>\n",
       "      <td>1</td>\n",
       "      <td>0</td>\n",
       "      <td>&lt;150</td>\n",
       "      <td>C</td>\n",
       "      <td>C</td>\n",
       "    </tr>\n",
       "    <tr>\n",
       "      <th>2</th>\n",
       "      <td>1</td>\n",
       "      <td>3</td>\n",
       "      <td>female</td>\n",
       "      <td>Youth</td>\n",
       "      <td>0</td>\n",
       "      <td>0</td>\n",
       "      <td>&lt;50</td>\n",
       "      <td>Z</td>\n",
       "      <td>S</td>\n",
       "    </tr>\n",
       "    <tr>\n",
       "      <th>3</th>\n",
       "      <td>1</td>\n",
       "      <td>1</td>\n",
       "      <td>female</td>\n",
       "      <td>Youth</td>\n",
       "      <td>1</td>\n",
       "      <td>0</td>\n",
       "      <td>&lt;150</td>\n",
       "      <td>C</td>\n",
       "      <td>S</td>\n",
       "    </tr>\n",
       "    <tr>\n",
       "      <th>4</th>\n",
       "      <td>0</td>\n",
       "      <td>3</td>\n",
       "      <td>male</td>\n",
       "      <td>Youth</td>\n",
       "      <td>0</td>\n",
       "      <td>0</td>\n",
       "      <td>&lt;50</td>\n",
       "      <td>Z</td>\n",
       "      <td>S</td>\n",
       "    </tr>\n",
       "  </tbody>\n",
       "</table>\n",
       "</div>"
      ],
      "text/plain": [
       "   Survived  Pclass     Sex    Age  SibSp  Parch  Fare Cabin Embarked\n",
       "0         0       3    male  Youth      1      0   <50     Z        S\n",
       "1         1       1  female  Youth      1      0  <150     C        C\n",
       "2         1       3  female  Youth      0      0   <50     Z        S\n",
       "3         1       1  female  Youth      1      0  <150     C        S\n",
       "4         0       3    male  Youth      0      0   <50     Z        S"
      ]
     },
     "execution_count": 68,
     "metadata": {},
     "output_type": "execute_result"
    }
   ],
   "source": [
    "dfCateN.head()"
   ]
  },
  {
   "cell_type": "markdown",
   "id": "0bb72a18",
   "metadata": {},
   "source": [
    "##### AI 객체들 불러오기"
   ]
  },
  {
   "cell_type": "code",
   "execution_count": 69,
   "id": "116a4912",
   "metadata": {},
   "outputs": [
    {
     "data": {
      "text/plain": [
       "{'Sex': LabelEncoder(),\n",
       " 'Age': LabelEncoder(),\n",
       " 'Fare': LabelEncoder(),\n",
       " 'Cabin': LabelEncoder(),\n",
       " 'Embarked': LabelEncoder(),\n",
       " 'scaler': StandardScaler(),\n",
       " 'model': LogisticRegression(random_state=1004)}"
      ]
     },
     "execution_count": 69,
     "metadata": {},
     "output_type": "execute_result"
    }
   ],
   "source": [
    "dctPickle = joblib.load(PICKLE_NAME)\n",
    "dctPickle"
   ]
  },
  {
   "cell_type": "markdown",
   "id": "7eaabfdd",
   "metadata": {},
   "source": [
    "##### 예측 결과 = 0 (사망)"
   ]
  },
  {
   "cell_type": "code",
   "execution_count": 70,
   "id": "34649cb7",
   "metadata": {},
   "outputs": [
    {
     "data": {
      "text/plain": [
       "['3', 'male', 'Youth', '1', '0', '<50', 'Z', 'S']"
      ]
     },
     "execution_count": 70,
     "metadata": {},
     "output_type": "execute_result"
    }
   ],
   "source": [
    "row = '3\tmale\tYouth\t1\t0\t<50\tZ\tS'\n",
    "lst = row.split()\n",
    "lst"
   ]
  },
  {
   "cell_type": "code",
   "execution_count": 71,
   "id": "dd15c642",
   "metadata": {},
   "outputs": [
    {
     "data": {
      "text/html": [
       "<div>\n",
       "<style scoped>\n",
       "    .dataframe tbody tr th:only-of-type {\n",
       "        vertical-align: middle;\n",
       "    }\n",
       "\n",
       "    .dataframe tbody tr th {\n",
       "        vertical-align: top;\n",
       "    }\n",
       "\n",
       "    .dataframe thead th {\n",
       "        text-align: right;\n",
       "    }\n",
       "</style>\n",
       "<table border=\"1\" class=\"dataframe\">\n",
       "  <thead>\n",
       "    <tr style=\"text-align: right;\">\n",
       "      <th></th>\n",
       "      <th>Pclass</th>\n",
       "      <th>Sex</th>\n",
       "      <th>Age</th>\n",
       "      <th>SibSp</th>\n",
       "      <th>Parch</th>\n",
       "      <th>Fare</th>\n",
       "      <th>Cabin</th>\n",
       "      <th>Embarked</th>\n",
       "    </tr>\n",
       "  </thead>\n",
       "  <tbody>\n",
       "    <tr>\n",
       "      <th>0</th>\n",
       "      <td>3</td>\n",
       "      <td>male</td>\n",
       "      <td>Youth</td>\n",
       "      <td>1</td>\n",
       "      <td>0</td>\n",
       "      <td>&lt;50</td>\n",
       "      <td>Z</td>\n",
       "      <td>S</td>\n",
       "    </tr>\n",
       "  </tbody>\n",
       "</table>\n",
       "</div>"
      ],
      "text/plain": [
       "  Pclass   Sex    Age SibSp Parch Fare Cabin Embarked\n",
       "0      3  male  Youth     1     0  <50     Z        S"
      ]
     },
     "execution_count": 71,
     "metadata": {},
     "output_type": "execute_result"
    }
   ],
   "source": [
    "colNames = [c for c in dfPreN.columns if c != 'Survived']\n",
    "dfZero = pd.DataFrame([lst], columns=colNames)\n",
    "dfZero"
   ]
  },
  {
   "cell_type": "code",
   "execution_count": 72,
   "id": "ca50bfa1",
   "metadata": {},
   "outputs": [
    {
     "data": {
      "text/html": [
       "<div>\n",
       "<style scoped>\n",
       "    .dataframe tbody tr th:only-of-type {\n",
       "        vertical-align: middle;\n",
       "    }\n",
       "\n",
       "    .dataframe tbody tr th {\n",
       "        vertical-align: top;\n",
       "    }\n",
       "\n",
       "    .dataframe thead th {\n",
       "        text-align: right;\n",
       "    }\n",
       "</style>\n",
       "<table border=\"1\" class=\"dataframe\">\n",
       "  <thead>\n",
       "    <tr style=\"text-align: right;\">\n",
       "      <th></th>\n",
       "      <th>Pclass</th>\n",
       "      <th>Sex</th>\n",
       "      <th>Age</th>\n",
       "      <th>SibSp</th>\n",
       "      <th>Parch</th>\n",
       "      <th>Fare</th>\n",
       "      <th>Cabin</th>\n",
       "      <th>Embarked</th>\n",
       "    </tr>\n",
       "  </thead>\n",
       "  <tbody>\n",
       "    <tr>\n",
       "      <th>0</th>\n",
       "      <td>3</td>\n",
       "      <td>1</td>\n",
       "      <td>4</td>\n",
       "      <td>1</td>\n",
       "      <td>0</td>\n",
       "      <td>1</td>\n",
       "      <td>8</td>\n",
       "      <td>2</td>\n",
       "    </tr>\n",
       "  </tbody>\n",
       "</table>\n",
       "</div>"
      ],
      "text/plain": [
       "  Pclass  Sex  Age SibSp Parch  Fare  Cabin  Embarked\n",
       "0      3    1    4     1     0     1      8         2"
      ]
     },
     "execution_count": 72,
     "metadata": {},
     "output_type": "execute_result"
    }
   ],
   "source": [
    "# dfZero['Sex'] = dctPickle['Sex'].transform(dfZero['Sex'])\n",
    "\n",
    "def fn(col):\n",
    "    if col.name in ['Sex', 'Cabin', 'Embarked', 'Age', 'Fare']:\n",
    "        return dctPickle[col.name].transform(col)\n",
    "    return col\n",
    "\n",
    "dfZlabel = dfZero.apply(fn, axis=0)\n",
    "dfZlabel"
   ]
  },
  {
   "cell_type": "code",
   "execution_count": 73,
   "id": "bacddda3",
   "metadata": {},
   "outputs": [
    {
     "data": {
      "text/html": [
       "<div>\n",
       "<style scoped>\n",
       "    .dataframe tbody tr th:only-of-type {\n",
       "        vertical-align: middle;\n",
       "    }\n",
       "\n",
       "    .dataframe tbody tr th {\n",
       "        vertical-align: top;\n",
       "    }\n",
       "\n",
       "    .dataframe thead th {\n",
       "        text-align: right;\n",
       "    }\n",
       "</style>\n",
       "<table border=\"1\" class=\"dataframe\">\n",
       "  <thead>\n",
       "    <tr style=\"text-align: right;\">\n",
       "      <th></th>\n",
       "      <th>Pclass</th>\n",
       "      <th>Sex</th>\n",
       "      <th>Age</th>\n",
       "      <th>SibSp</th>\n",
       "      <th>Parch</th>\n",
       "      <th>Fare</th>\n",
       "      <th>Cabin</th>\n",
       "      <th>Embarked</th>\n",
       "    </tr>\n",
       "  </thead>\n",
       "  <tbody>\n",
       "    <tr>\n",
       "      <th>0</th>\n",
       "      <td>0.827377</td>\n",
       "      <td>0.737695</td>\n",
       "      <td>0.473014</td>\n",
       "      <td>0.432793</td>\n",
       "      <td>-0.473674</td>\n",
       "      <td>0.282598</td>\n",
       "      <td>0.522067</td>\n",
       "      <td>0.585954</td>\n",
       "    </tr>\n",
       "  </tbody>\n",
       "</table>\n",
       "</div>"
      ],
      "text/plain": [
       "     Pclass       Sex       Age     SibSp     Parch      Fare     Cabin   \n",
       "0  0.827377  0.737695  0.473014  0.432793 -0.473674  0.282598  0.522067  \\\n",
       "\n",
       "   Embarked  \n",
       "0  0.585954  "
      ]
     },
     "execution_count": 73,
     "metadata": {},
     "output_type": "execute_result"
    }
   ],
   "source": [
    "scaled = dctPickle['scaler'].transform(dfZlabel)\n",
    "dfZscale = pd.DataFrame(scaled, columns=colNames)\n",
    "dfZscale"
   ]
  },
  {
   "cell_type": "code",
   "execution_count": 74,
   "id": "b00efe7e",
   "metadata": {},
   "outputs": [
    {
     "data": {
      "text/plain": [
       "array([0], dtype=int64)"
      ]
     },
     "execution_count": 74,
     "metadata": {},
     "output_type": "execute_result"
    }
   ],
   "source": [
    "dctPickle['model'].predict(dfZscale)"
   ]
  },
  {
   "cell_type": "markdown",
   "id": "eeaeb9e8",
   "metadata": {},
   "source": [
    "##### 예측 결과 = 1 (생존)"
   ]
  },
  {
   "cell_type": "code",
   "execution_count": 75,
   "id": "443e1758",
   "metadata": {},
   "outputs": [
    {
     "data": {
      "text/plain": [
       "['1', 'female', 'Youth', '1', '0', '<150', 'C', 'C']"
      ]
     },
     "execution_count": 75,
     "metadata": {},
     "output_type": "execute_result"
    }
   ],
   "source": [
    "row = '1\tfemale\tYouth\t1\t0\t<150\tC\tC'\n",
    "lst = row.split()\n",
    "lst"
   ]
  },
  {
   "cell_type": "code",
   "execution_count": 76,
   "id": "2f8c6034",
   "metadata": {},
   "outputs": [
    {
     "data": {
      "text/html": [
       "<div>\n",
       "<style scoped>\n",
       "    .dataframe tbody tr th:only-of-type {\n",
       "        vertical-align: middle;\n",
       "    }\n",
       "\n",
       "    .dataframe tbody tr th {\n",
       "        vertical-align: top;\n",
       "    }\n",
       "\n",
       "    .dataframe thead th {\n",
       "        text-align: right;\n",
       "    }\n",
       "</style>\n",
       "<table border=\"1\" class=\"dataframe\">\n",
       "  <thead>\n",
       "    <tr style=\"text-align: right;\">\n",
       "      <th></th>\n",
       "      <th>Pclass</th>\n",
       "      <th>Sex</th>\n",
       "      <th>Age</th>\n",
       "      <th>SibSp</th>\n",
       "      <th>Parch</th>\n",
       "      <th>Fare</th>\n",
       "      <th>Cabin</th>\n",
       "      <th>Embarked</th>\n",
       "    </tr>\n",
       "  </thead>\n",
       "  <tbody>\n",
       "    <tr>\n",
       "      <th>0</th>\n",
       "      <td>-1.566107</td>\n",
       "      <td>-1.355574</td>\n",
       "      <td>0.473014</td>\n",
       "      <td>0.432793</td>\n",
       "      <td>-0.473674</td>\n",
       "      <td>-2.162014</td>\n",
       "      <td>-1.917594</td>\n",
       "      <td>-1.942303</td>\n",
       "    </tr>\n",
       "  </tbody>\n",
       "</table>\n",
       "</div>"
      ],
      "text/plain": [
       "     Pclass       Sex       Age     SibSp     Parch      Fare     Cabin   \n",
       "0 -1.566107 -1.355574  0.473014  0.432793 -0.473674 -2.162014 -1.917594  \\\n",
       "\n",
       "   Embarked  \n",
       "0 -1.942303  "
      ]
     },
     "execution_count": 76,
     "metadata": {},
     "output_type": "execute_result"
    }
   ],
   "source": [
    "dfOne = pd.DataFrame([lst], columns=colNames)\n",
    "dfOlabel = dfOne.apply(fn, axis=0)\n",
    "scaled = dctPickle['scaler'].transform(dfOlabel)\n",
    "dfOscale = pd.DataFrame(scaled, columns=colNames)\n",
    "dfOscale"
   ]
  },
  {
   "cell_type": "code",
   "execution_count": 77,
   "id": "32751337",
   "metadata": {},
   "outputs": [
    {
     "data": {
      "text/plain": [
       "array([1], dtype=int64)"
      ]
     },
     "execution_count": 77,
     "metadata": {},
     "output_type": "execute_result"
    }
   ],
   "source": [
    "dctPickle['model'].predict(dfOscale)"
   ]
  },
  {
   "cell_type": "code",
   "execution_count": null,
   "id": "49aec4d1",
   "metadata": {},
   "outputs": [],
   "source": []
  }
 ],
 "metadata": {
  "kernelspec": {
   "display_name": "Python 3 (ipykernel)",
   "language": "python",
   "name": "python3"
  },
  "language_info": {
   "codemirror_mode": {
    "name": "ipython",
    "version": 3
   },
   "file_extension": ".py",
   "mimetype": "text/x-python",
   "name": "python",
   "nbconvert_exporter": "python",
   "pygments_lexer": "ipython3",
   "version": "3.11.3"
  }
 },
 "nbformat": 4,
 "nbformat_minor": 5
}
